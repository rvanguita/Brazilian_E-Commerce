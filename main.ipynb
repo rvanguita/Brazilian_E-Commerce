{
 "cells": [
  {
   "cell_type": "code",
   "execution_count": 1,
   "id": "36db4d9a",
   "metadata": {},
   "outputs": [],
   "source": [
    "from src.eda.eda_visualizer import DataDistributionVisualizer\n",
    "\n",
    "from src.evaluation.metrics import ClassifierMetricsEvaluator\n",
    "from src.evaluation.plots import ClassificationVisualizer\n",
    "\n",
    "# from src.explainability.shap_explainer import ShapExplainer\n",
    "\n",
    "from src.text_preprocessing.cleaning import StringCleanerTransformer, StringCleaner, StopwordFilter\n",
    "from src.text_preprocessing.embeddings import BertEmbeddingTransformer\n",
    "# from src.text_preprocessing.feature_extraction import FeatureExtractionUtils\n",
    "from src.text_preprocessing.stemming import StemmerTransformer\n",
    "from src.text_preprocessing.vectorization import TextVectorizerWrapper\n",
    "\n",
    "from src.tuning.classification_hyper_tuner import HyperparameterTuner"
   ]
  },
  {
   "cell_type": "code",
   "execution_count": 2,
   "id": "4357c33a",
   "metadata": {},
   "outputs": [],
   "source": [
    "import pandas as pd\n",
    "import numpy as np\n",
    "import matplotlib.pyplot as plt\n",
    "import matplotlib.cm as cm\n",
    "import seaborn as sns\n",
    "import os\n",
    "import joblib\n",
    "\n",
    "os.makedirs(\"models\", exist_ok=True)\n",
    "folder = 'models/'"
   ]
  },
  {
   "cell_type": "code",
   "execution_count": 3,
   "id": "4eb9bca6",
   "metadata": {},
   "outputs": [],
   "source": [
    "from collections import Counter\n",
    "from wordcloud import WordCloud"
   ]
  },
  {
   "cell_type": "code",
   "execution_count": 4,
   "id": "67a3b0a7",
   "metadata": {},
   "outputs": [],
   "source": [
    "import re\n",
    "\n",
    "# import nltk\n",
    "# nltk.download('stopwords')\n",
    "# nltk.download('rslp')\n",
    "\n",
    "from nltk.corpus import stopwords\n",
    "from nltk.stem import RSLPStemmer"
   ]
  },
  {
   "cell_type": "code",
   "execution_count": 5,
   "id": "f98c6be3",
   "metadata": {},
   "outputs": [],
   "source": [
    "from sklearn.feature_extraction.text import TfidfVectorizer\n",
    "from sklearn.calibration import CalibratedClassifierCV\n",
    "from imblearn.pipeline import Pipeline as ImbPipeline\n",
    "from imblearn.over_sampling import SMOTE\n",
    "\n",
    "from sklearn.model_selection import train_test_split\n",
    "from sklearn.pipeline import Pipeline"
   ]
  },
  {
   "cell_type": "code",
   "execution_count": 6,
   "id": "2e6ff9cf",
   "metadata": {},
   "outputs": [],
   "source": [
    "import lightgbm as lgb\n",
    "import xgboost as xgb"
   ]
  },
  {
   "cell_type": "code",
   "execution_count": 7,
   "id": "855c53e8-0049-4fb6-acf9-c97856958afd",
   "metadata": {},
   "outputs": [],
   "source": [
    "raw_path = 'data/archive/'\n",
    "# olist_customer = pd.read_csv(raw_path + 'olist_customers_dataset.csv')\n",
    "# olist_geolocation = pd.read_csv(raw_path + 'olist_geolocation_dataset.csv')\n",
    "# olist_orders = pd.read_csv(raw_path + 'olist_orders_dataset.csv')\n",
    "# olist_order_items = pd.read_csv(raw_path + 'olist_order_items_dataset.csv')\n",
    "# olist_order_payments = pd.read_csv(raw_path + 'olist_order_payments_dataset.csv')\n",
    "olist_order_reviews = pd.read_csv(raw_path + 'olist_order_reviews_dataset.csv')\n",
    "# olist_products = pd.read_csv(raw_path + 'olist_products_dataset.csv')\n",
    "# olist_sellers = pd.read_csv(raw_path + 'olist_sellers_dataset.csv')"
   ]
  },
  {
   "cell_type": "code",
   "execution_count": 8,
   "id": "baf94c73-159c-4dbb-b53c-52ef2c0f95c1",
   "metadata": {},
   "outputs": [],
   "source": [
    "# Collections for each dataset\n",
    "# datasets = [olist_customer, olist_geolocation, olist_orders, olist_order_items, olist_order_payments,\n",
    "#             olist_order_reviews, olist_products, olist_sellers]\n",
    "# names = ['olist_customer', 'olist_geolocation', 'olist_orders', 'olist_order_items', 'olist_order_payments',\n",
    "#          'olist_order_reviews', 'olist_products', 'olist_sellers']"
   ]
  },
  {
   "cell_type": "code",
   "execution_count": 9,
   "id": "d8bb481d-e2fb-423a-b5ac-495c1d023c26",
   "metadata": {},
   "outputs": [],
   "source": [
    "# Creating a DataFrame with useful information about all datasets\n",
    "# data_info = pd.DataFrame({})\n",
    "# data_info['dataset'] = names\n",
    "# data_info['n_rows'] = [df.shape[0] for df in datasets]\n",
    "# data_info['n_cols'] = [df.shape[1] for df in datasets]\n",
    "# data_info['null_amount'] = [df.isnull().sum().sum() for df in datasets]\n",
    "# data_info['qty_null_columns'] = [len([col for col, null in df.isnull().sum().items() if null > 0]) for df in datasets]\n",
    "# data_info['null_columns'] = [', '.join([col for col, null in df.isnull().sum().items() if null > 0]) for df in datasets]\n",
    "# data_info"
   ]
  },
  {
   "cell_type": "markdown",
   "id": "e9066863",
   "metadata": {},
   "source": [
    "---"
   ]
  },
  {
   "cell_type": "markdown",
   "id": "e8a677e8",
   "metadata": {},
   "source": [
    "# NLP"
   ]
  },
  {
   "cell_type": "code",
   "execution_count": 10,
   "id": "158eaaed",
   "metadata": {},
   "outputs": [
    {
     "data": {
      "text/html": [
       "<div>\n",
       "<style scoped>\n",
       "    .dataframe tbody tr th:only-of-type {\n",
       "        vertical-align: middle;\n",
       "    }\n",
       "\n",
       "    .dataframe tbody tr th {\n",
       "        vertical-align: top;\n",
       "    }\n",
       "\n",
       "    .dataframe thead th {\n",
       "        text-align: right;\n",
       "    }\n",
       "</style>\n",
       "<table border=\"1\" class=\"dataframe\">\n",
       "  <thead>\n",
       "    <tr style=\"text-align: right;\">\n",
       "      <th></th>\n",
       "      <th>review_id</th>\n",
       "      <th>order_id</th>\n",
       "      <th>review_score</th>\n",
       "      <th>review_comment_title</th>\n",
       "      <th>review_comment_message</th>\n",
       "      <th>review_creation_date</th>\n",
       "      <th>review_answer_timestamp</th>\n",
       "    </tr>\n",
       "  </thead>\n",
       "  <tbody>\n",
       "    <tr>\n",
       "      <th>0</th>\n",
       "      <td>7bc2406110b926393aa56f80a40eba40</td>\n",
       "      <td>73fc7af87114b39712e6da79b0a377eb</td>\n",
       "      <td>4</td>\n",
       "      <td>NaN</td>\n",
       "      <td>NaN</td>\n",
       "      <td>2018-01-18 00:00:00</td>\n",
       "      <td>2018-01-18 21:46:59</td>\n",
       "    </tr>\n",
       "    <tr>\n",
       "      <th>1</th>\n",
       "      <td>80e641a11e56f04c1ad469d5645fdfde</td>\n",
       "      <td>a548910a1c6147796b98fdf73dbeba33</td>\n",
       "      <td>5</td>\n",
       "      <td>NaN</td>\n",
       "      <td>NaN</td>\n",
       "      <td>2018-03-10 00:00:00</td>\n",
       "      <td>2018-03-11 03:05:13</td>\n",
       "    </tr>\n",
       "    <tr>\n",
       "      <th>2</th>\n",
       "      <td>228ce5500dc1d8e020d8d1322874b6f0</td>\n",
       "      <td>f9e4b658b201a9f2ecdecbb34bed034b</td>\n",
       "      <td>5</td>\n",
       "      <td>NaN</td>\n",
       "      <td>NaN</td>\n",
       "      <td>2018-02-17 00:00:00</td>\n",
       "      <td>2018-02-18 14:36:24</td>\n",
       "    </tr>\n",
       "    <tr>\n",
       "      <th>3</th>\n",
       "      <td>e64fb393e7b32834bb789ff8bb30750e</td>\n",
       "      <td>658677c97b385a9be170737859d3511b</td>\n",
       "      <td>5</td>\n",
       "      <td>NaN</td>\n",
       "      <td>Recebi bem antes do prazo estipulado.</td>\n",
       "      <td>2017-04-21 00:00:00</td>\n",
       "      <td>2017-04-21 22:02:06</td>\n",
       "    </tr>\n",
       "    <tr>\n",
       "      <th>4</th>\n",
       "      <td>f7c4243c7fe1938f181bec41a392bdeb</td>\n",
       "      <td>8e6bfb81e283fa7e4f11123a3fb894f1</td>\n",
       "      <td>5</td>\n",
       "      <td>NaN</td>\n",
       "      <td>Parabéns lojas lannister adorei comprar pela I...</td>\n",
       "      <td>2018-03-01 00:00:00</td>\n",
       "      <td>2018-03-02 10:26:53</td>\n",
       "    </tr>\n",
       "    <tr>\n",
       "      <th>...</th>\n",
       "      <td>...</td>\n",
       "      <td>...</td>\n",
       "      <td>...</td>\n",
       "      <td>...</td>\n",
       "      <td>...</td>\n",
       "      <td>...</td>\n",
       "      <td>...</td>\n",
       "    </tr>\n",
       "    <tr>\n",
       "      <th>99219</th>\n",
       "      <td>574ed12dd733e5fa530cfd4bbf39d7c9</td>\n",
       "      <td>2a8c23fee101d4d5662fa670396eb8da</td>\n",
       "      <td>5</td>\n",
       "      <td>NaN</td>\n",
       "      <td>NaN</td>\n",
       "      <td>2018-07-07 00:00:00</td>\n",
       "      <td>2018-07-14 17:18:30</td>\n",
       "    </tr>\n",
       "    <tr>\n",
       "      <th>99220</th>\n",
       "      <td>f3897127253a9592a73be9bdfdf4ed7a</td>\n",
       "      <td>22ec9f0669f784db00fa86d035cf8602</td>\n",
       "      <td>5</td>\n",
       "      <td>NaN</td>\n",
       "      <td>NaN</td>\n",
       "      <td>2017-12-09 00:00:00</td>\n",
       "      <td>2017-12-11 20:06:42</td>\n",
       "    </tr>\n",
       "    <tr>\n",
       "      <th>99221</th>\n",
       "      <td>b3de70c89b1510c4cd3d0649fd302472</td>\n",
       "      <td>55d4004744368f5571d1f590031933e4</td>\n",
       "      <td>5</td>\n",
       "      <td>NaN</td>\n",
       "      <td>Excelente mochila, entrega super rápida. Super...</td>\n",
       "      <td>2018-03-22 00:00:00</td>\n",
       "      <td>2018-03-23 09:10:43</td>\n",
       "    </tr>\n",
       "    <tr>\n",
       "      <th>99222</th>\n",
       "      <td>1adeb9d84d72fe4e337617733eb85149</td>\n",
       "      <td>7725825d039fc1f0ceb7635e3f7d9206</td>\n",
       "      <td>4</td>\n",
       "      <td>NaN</td>\n",
       "      <td>NaN</td>\n",
       "      <td>2018-07-01 00:00:00</td>\n",
       "      <td>2018-07-02 12:59:13</td>\n",
       "    </tr>\n",
       "    <tr>\n",
       "      <th>99223</th>\n",
       "      <td>efe49f1d6f951dd88b51e6ccd4cc548f</td>\n",
       "      <td>90531360ecb1eec2a1fbb265a0db0508</td>\n",
       "      <td>1</td>\n",
       "      <td>NaN</td>\n",
       "      <td>meu produto chegou e ja tenho que devolver, po...</td>\n",
       "      <td>2017-07-03 00:00:00</td>\n",
       "      <td>2017-07-03 21:01:49</td>\n",
       "    </tr>\n",
       "  </tbody>\n",
       "</table>\n",
       "<p>99224 rows × 7 columns</p>\n",
       "</div>"
      ],
      "text/plain": [
       "                              review_id                          order_id  \\\n",
       "0      7bc2406110b926393aa56f80a40eba40  73fc7af87114b39712e6da79b0a377eb   \n",
       "1      80e641a11e56f04c1ad469d5645fdfde  a548910a1c6147796b98fdf73dbeba33   \n",
       "2      228ce5500dc1d8e020d8d1322874b6f0  f9e4b658b201a9f2ecdecbb34bed034b   \n",
       "3      e64fb393e7b32834bb789ff8bb30750e  658677c97b385a9be170737859d3511b   \n",
       "4      f7c4243c7fe1938f181bec41a392bdeb  8e6bfb81e283fa7e4f11123a3fb894f1   \n",
       "...                                 ...                               ...   \n",
       "99219  574ed12dd733e5fa530cfd4bbf39d7c9  2a8c23fee101d4d5662fa670396eb8da   \n",
       "99220  f3897127253a9592a73be9bdfdf4ed7a  22ec9f0669f784db00fa86d035cf8602   \n",
       "99221  b3de70c89b1510c4cd3d0649fd302472  55d4004744368f5571d1f590031933e4   \n",
       "99222  1adeb9d84d72fe4e337617733eb85149  7725825d039fc1f0ceb7635e3f7d9206   \n",
       "99223  efe49f1d6f951dd88b51e6ccd4cc548f  90531360ecb1eec2a1fbb265a0db0508   \n",
       "\n",
       "       review_score review_comment_title  \\\n",
       "0                 4                  NaN   \n",
       "1                 5                  NaN   \n",
       "2                 5                  NaN   \n",
       "3                 5                  NaN   \n",
       "4                 5                  NaN   \n",
       "...             ...                  ...   \n",
       "99219             5                  NaN   \n",
       "99220             5                  NaN   \n",
       "99221             5                  NaN   \n",
       "99222             4                  NaN   \n",
       "99223             1                  NaN   \n",
       "\n",
       "                                  review_comment_message review_creation_date  \\\n",
       "0                                                    NaN  2018-01-18 00:00:00   \n",
       "1                                                    NaN  2018-03-10 00:00:00   \n",
       "2                                                    NaN  2018-02-17 00:00:00   \n",
       "3                  Recebi bem antes do prazo estipulado.  2017-04-21 00:00:00   \n",
       "4      Parabéns lojas lannister adorei comprar pela I...  2018-03-01 00:00:00   \n",
       "...                                                  ...                  ...   \n",
       "99219                                                NaN  2018-07-07 00:00:00   \n",
       "99220                                                NaN  2017-12-09 00:00:00   \n",
       "99221  Excelente mochila, entrega super rápida. Super...  2018-03-22 00:00:00   \n",
       "99222                                                NaN  2018-07-01 00:00:00   \n",
       "99223  meu produto chegou e ja tenho que devolver, po...  2017-07-03 00:00:00   \n",
       "\n",
       "      review_answer_timestamp  \n",
       "0         2018-01-18 21:46:59  \n",
       "1         2018-03-11 03:05:13  \n",
       "2         2018-02-18 14:36:24  \n",
       "3         2017-04-21 22:02:06  \n",
       "4         2018-03-02 10:26:53  \n",
       "...                       ...  \n",
       "99219     2018-07-14 17:18:30  \n",
       "99220     2017-12-11 20:06:42  \n",
       "99221     2018-03-23 09:10:43  \n",
       "99222     2018-07-02 12:59:13  \n",
       "99223     2017-07-03 21:01:49  \n",
       "\n",
       "[99224 rows x 7 columns]"
      ]
     },
     "execution_count": 10,
     "metadata": {},
     "output_type": "execute_result"
    }
   ],
   "source": [
    "olist_order_reviews"
   ]
  },
  {
   "cell_type": "code",
   "execution_count": 11,
   "id": "d4f4d86b",
   "metadata": {},
   "outputs": [
    {
     "data": {
      "text/plain": [
       "99224"
      ]
     },
     "execution_count": 11,
     "metadata": {},
     "output_type": "execute_result"
    }
   ],
   "source": [
    "df_raw = olist_order_reviews.loc[:, ['review_score', 'review_comment_message']]\n",
    "df_analysis = df_raw.copy()\n",
    "len(df_analysis)"
   ]
  },
  {
   "cell_type": "code",
   "execution_count": 12,
   "id": "ded4bacc",
   "metadata": {},
   "outputs": [
    {
     "data": {
      "text/plain": [
       "40977"
      ]
     },
     "execution_count": 12,
     "metadata": {},
     "output_type": "execute_result"
    }
   ],
   "source": [
    "df_analysis = df_analysis.dropna(subset=['review_comment_message'])\n",
    "df_analysis = df_analysis.reset_index(drop=True)\n",
    "len(df_analysis)"
   ]
  },
  {
   "cell_type": "code",
   "execution_count": 13,
   "id": "e1c33f81",
   "metadata": {},
   "outputs": [
    {
     "data": {
      "text/plain": [
       "36159"
      ]
     },
     "execution_count": 13,
     "metadata": {},
     "output_type": "execute_result"
    }
   ],
   "source": [
    "df_analysis = df_analysis.drop_duplicates(subset='review_comment_message', keep='first').reset_index(drop=True)\n",
    "len(df_analysis)"
   ]
  },
  {
   "cell_type": "code",
   "execution_count": 14,
   "id": "555229df",
   "metadata": {},
   "outputs": [
    {
     "data": {
      "text/html": [
       "<div>\n",
       "<style scoped>\n",
       "    .dataframe tbody tr th:only-of-type {\n",
       "        vertical-align: middle;\n",
       "    }\n",
       "\n",
       "    .dataframe tbody tr th {\n",
       "        vertical-align: top;\n",
       "    }\n",
       "\n",
       "    .dataframe thead th {\n",
       "        text-align: right;\n",
       "    }\n",
       "</style>\n",
       "<table border=\"1\" class=\"dataframe\">\n",
       "  <thead>\n",
       "    <tr style=\"text-align: right;\">\n",
       "      <th></th>\n",
       "      <th>score</th>\n",
       "      <th>comment</th>\n",
       "    </tr>\n",
       "  </thead>\n",
       "  <tbody>\n",
       "    <tr>\n",
       "      <th>0</th>\n",
       "      <td>5</td>\n",
       "      <td>Recebi bem antes do prazo estipulado.</td>\n",
       "    </tr>\n",
       "    <tr>\n",
       "      <th>1</th>\n",
       "      <td>5</td>\n",
       "      <td>Parabéns lojas lannister adorei comprar pela I...</td>\n",
       "    </tr>\n",
       "    <tr>\n",
       "      <th>2</th>\n",
       "      <td>4</td>\n",
       "      <td>aparelho eficiente. no site a marca do aparelh...</td>\n",
       "    </tr>\n",
       "    <tr>\n",
       "      <th>3</th>\n",
       "      <td>4</td>\n",
       "      <td>Mas um pouco ,travando...pelo valor ta Boa.\\r\\n</td>\n",
       "    </tr>\n",
       "    <tr>\n",
       "      <th>4</th>\n",
       "      <td>5</td>\n",
       "      <td>Vendedor confiável, produto ok e entrega antes...</td>\n",
       "    </tr>\n",
       "    <tr>\n",
       "      <th>...</th>\n",
       "      <td>...</td>\n",
       "      <td>...</td>\n",
       "    </tr>\n",
       "    <tr>\n",
       "      <th>36154</th>\n",
       "      <td>4</td>\n",
       "      <td>para este produto recebi de acordo com a compr...</td>\n",
       "    </tr>\n",
       "    <tr>\n",
       "      <th>36155</th>\n",
       "      <td>5</td>\n",
       "      <td>Entregou dentro do prazo. O produto chegou em ...</td>\n",
       "    </tr>\n",
       "    <tr>\n",
       "      <th>36156</th>\n",
       "      <td>3</td>\n",
       "      <td>O produto não foi enviado com NF, não existe v...</td>\n",
       "    </tr>\n",
       "    <tr>\n",
       "      <th>36157</th>\n",
       "      <td>5</td>\n",
       "      <td>Excelente mochila, entrega super rápida. Super...</td>\n",
       "    </tr>\n",
       "    <tr>\n",
       "      <th>36158</th>\n",
       "      <td>1</td>\n",
       "      <td>meu produto chegou e ja tenho que devolver, po...</td>\n",
       "    </tr>\n",
       "  </tbody>\n",
       "</table>\n",
       "<p>36159 rows × 2 columns</p>\n",
       "</div>"
      ],
      "text/plain": [
       "       score                                            comment\n",
       "0          5              Recebi bem antes do prazo estipulado.\n",
       "1          5  Parabéns lojas lannister adorei comprar pela I...\n",
       "2          4  aparelho eficiente. no site a marca do aparelh...\n",
       "3          4    Mas um pouco ,travando...pelo valor ta Boa.\\r\\n\n",
       "4          5  Vendedor confiável, produto ok e entrega antes...\n",
       "...      ...                                                ...\n",
       "36154      4  para este produto recebi de acordo com a compr...\n",
       "36155      5  Entregou dentro do prazo. O produto chegou em ...\n",
       "36156      3  O produto não foi enviado com NF, não existe v...\n",
       "36157      5  Excelente mochila, entrega super rápida. Super...\n",
       "36158      1  meu produto chegou e ja tenho que devolver, po...\n",
       "\n",
       "[36159 rows x 2 columns]"
      ]
     },
     "execution_count": 14,
     "metadata": {},
     "output_type": "execute_result"
    }
   ],
   "source": [
    "df_analysis.columns = ['score', 'comment']\n",
    "df_analysis"
   ]
  },
  {
   "cell_type": "markdown",
   "id": "658c3208",
   "metadata": {},
   "source": [
    "# Binary"
   ]
  },
  {
   "cell_type": "code",
   "execution_count": 15,
   "id": "c989121e",
   "metadata": {},
   "outputs": [],
   "source": [
    "sentiment_label = {\n",
    "    1: 'negative',\n",
    "    2: 'negative',\n",
    "    3: 'negative',\n",
    "    4: 'positive',\n",
    "    5: 'positive'\n",
    "}\n",
    "df_analysis['sentiment_label'] = df_analysis['score'].map(sentiment_label)"
   ]
  },
  {
   "cell_type": "code",
   "execution_count": 16,
   "id": "6fd78cb4",
   "metadata": {},
   "outputs": [
    {
     "data": {
      "image/png": "[encoded data removed]",
      "text/plain": [
       "<Figure size 500x500 with 1 Axes>"
      ]
     },
     "metadata": {},
     "output_type": "display_data"
    }
   ],
   "source": [
    "hue='sentiment_label'\n",
    "\n",
    "visualizer = DataDistributionVisualizer(\n",
    "    dataframe=df_analysis, \n",
    "    figsize=(5, 5), \n",
    "    title = f'Number of Positive and Negative Posts'\n",
    "    )\n",
    "\n",
    "visualizer.plot_category_distribution(\n",
    "    category_col=hue, \n",
    "    palette = ['#2e4b3a', '#8a2c3d']\n",
    "    )"
   ]
  },
  {
   "cell_type": "markdown",
   "id": "849408cc",
   "metadata": {},
   "source": [
    "## Data"
   ]
  },
  {
   "cell_type": "code",
   "execution_count": 17,
   "id": "cd3318b8",
   "metadata": {},
   "outputs": [],
   "source": [
    "sentiment_label_encoder = {\n",
    "    'negative': 0,\n",
    "    'positive' : 1,\n",
    "}\n",
    "\n",
    "y = df_analysis['sentiment_label'].map(sentiment_label_encoder).values\n",
    "X = df_analysis['comment'].tolist()"
   ]
  },
  {
   "cell_type": "markdown",
   "id": "d9d97c1f",
   "metadata": {},
   "source": [
    "## Pipeline Text\n",
    "### Clean text"
   ]
  },
  {
   "cell_type": "code",
   "execution_count": 18,
   "id": "7adb80c0",
   "metadata": {},
   "outputs": [],
   "source": [
    "text_cleaning_steps = [\n",
    "StringCleaner.remove_line_breaks,\n",
    "StringCleaner.remove_links,\n",
    "StringCleaner.normalize_dates,\n",
    "StringCleaner.normalize_currency,\n",
    "StringCleaner.replace_numbers,\n",
    "StringCleaner.replace_negations,\n",
    "StringCleaner.remove_special_characters,\n",
    "StringCleaner.normalize_whitespace,\n",
    "StringCleaner.replace_emojis,\n",
    "StringCleaner.normalize_repetitions,\n",
    "StringCleaner.remove_accents,\n",
    "StringCleaner.replace_slang,\n",
    "]"
   ]
  },
  {
   "cell_type": "markdown",
   "id": "f972bdb1",
   "metadata": {},
   "source": [
    "### Create TF-IDF vectorize, RSLP and Stop words"
   ]
  },
  {
   "cell_type": "code",
   "execution_count": 19,
   "id": "378ccb13",
   "metadata": {},
   "outputs": [],
   "source": [
    "pt_stopwords = stopwords.words('portuguese')\n",
    "rslp_stemmer = RSLPStemmer()\n",
    "\n",
    "# tfidf_vectorizer = TfidfVectorizer(max_features=300, min_df=6, max_df=0.7, stop_words=pt_stopwords)\n",
    "tfidf_vectorizer = TfidfVectorizer(max_features=5000, min_df=3, max_df=0.85, ngram_range=(1,2))"
   ]
  },
  {
   "cell_type": "markdown",
   "id": "e1a5b211",
   "metadata": {},
   "source": [
    "### Pipeline"
   ]
  },
  {
   "cell_type": "code",
   "execution_count": 20,
   "id": "01d0733a",
   "metadata": {},
   "outputs": [],
   "source": [
    "best_params_xgb_binary_cv = {\n",
    "\"random_state\": 42,\n",
    "\"verbosity\": 0,\n",
    "\"eval_metric\": \"logloss\", \n",
    "\"objective\": \"binary:logistic\",\n",
    "'learning_rate': 0.07636873934570003,\n",
    " 'n_estimators': 900,\n",
    " 'max_depth': 7,\n",
    " 'max_delta_step': 7,\n",
    " 'min_child_weight': 4,\n",
    " 'subsample': 0.8103837483917693,\n",
    " 'colsample_bytree': 0.5600827056827629,\n",
    " 'gamma': 1.685337451172175,\n",
    " 'reg_lambda': 0.04054723434908615,\n",
    " 'alpha': 0.30735682609814957\n",
    " }\n"
   ]
  },
  {
   "cell_type": "code",
   "execution_count": 21,
   "id": "121d207f",
   "metadata": {},
   "outputs": [],
   "source": [
    "pipeline_full_tfidf_binary = Pipeline([\n",
    "    ('StringCleanerTransformer', StringCleanerTransformer(text_cleaning_steps)),\n",
    "    ('StopwordFilter', StopwordFilter(pt_stopwords)),\n",
    "    ('StemmerTransformer', StemmerTransformer(rslp_stemmer)),\n",
    "    ('TextVectorizerWrapper', TextVectorizerWrapper(tfidf_vectorizer)),\n",
    "    ('model', xgb.XGBClassifier(**best_params_xgb_binary_cv))\n",
    "])"
   ]
  },
  {
   "cell_type": "markdown",
   "id": "cb0787ae",
   "metadata": {},
   "source": [
    "## Boost Hypterparametres"
   ]
  },
  {
   "cell_type": "code",
   "execution_count": 22,
   "id": "915d9797",
   "metadata": {},
   "outputs": [],
   "source": [
    "# tuner = HyperparameterTuner(\n",
    "#     features=X, \n",
    "#     labels=y, \n",
    "#     pipeline=pipeline_full_tfidf_binary,\n",
    "#     use_cross_validation=True,\n",
    "# )\n",
    "# best_params_lgb, best_value_lgb = tuner.run()"
   ]
  },
  {
   "cell_type": "code",
   "execution_count": 23,
   "id": "f872709f",
   "metadata": {},
   "outputs": [],
   "source": [
    "# train_model_classic = ClassifierMetricsEvaluator(model=pipeline_full_tfidf_binary)\n",
    "# cv_scores, X_train_cv, y_cv, y_pred_cv, y_proba_cv = train_model_classic.cross_validate(X=X, y=y)\n",
    "# cv_scores"
   ]
  },
  {
   "cell_type": "code",
   "execution_count": 24,
   "id": "f62af6eb",
   "metadata": {},
   "outputs": [],
   "source": [
    "# select_model = 'tfidf_binary'\n",
    "# joblib.dump(pipeline_full_tfidf_binary, f'{folder}pipeline_{select_model}.joblib')"
   ]
  },
  {
   "cell_type": "code",
   "execution_count": 25,
   "id": "1540c135",
   "metadata": {},
   "outputs": [],
   "source": [
    "# plotter = ClassificationVisualizer(\n",
    "#     true_labels=y_cv,\n",
    "#     predicted_labels=y_pred_cv,\n",
    "#     predicted_probabilities=y_proba_cv,\n",
    "#     features=X_train_cv,\n",
    "#     model=pipeline_full_tfidf_binary\n",
    "# )\n",
    "\n",
    "# plotter.plot_selected_charts(\n",
    "#     cols = 2,\n",
    "#     charts = [\n",
    "#         'confusion_matrix',\n",
    "#         'roc_curve',\n",
    "#         'precision_recall_curve',\n",
    "#         'probability_distribution',\n",
    "#         'calibration_curve',\n",
    "#     ]\n",
    "# )"
   ]
  },
  {
   "cell_type": "code",
   "execution_count": 26,
   "id": "26ff3882",
   "metadata": {},
   "outputs": [],
   "source": [
    "pipeline_full_bert_binary = Pipeline([\n",
    "    ('RegexCleanerTransformer', StringCleanerTransformer(text_cleaning_steps)),\n",
    "    ('StopwordRemover', StopwordFilter(pt_stopwords)),\n",
    "    ('StemmerTransformer', StemmerTransformer(rslp_stemmer)),\n",
    "    ('BertEmbeddingTransformer', BertEmbeddingTransformer(batch_size=8, max_length=128)),\n",
    "    ('model', xgb.XGBClassifier(**best_params_xgb_binary_cv))# ainda mais leve\n",
    "])"
   ]
  },
  {
   "cell_type": "code",
   "execution_count": null,
   "id": "9c92f2c0",
   "metadata": {},
   "outputs": [
    {
     "name": "stdout",
     "output_type": "stream",
     "text": [
      "Starting cross-validation...\n"
     ]
    },
    {
     "data": {
      "application/vnd.jupyter.widget-view+json": {
       "model_id": "6502132523174ee6822b4f3db9ea0b5c",
       "version_major": 2,
       "version_minor": 0
      },
      "text/plain": [
       "Cross-validation:   0%|          | 0/5 [00:00<?, ?it/s]"
      ]
     },
     "metadata": {},
     "output_type": "display_data"
    },
    {
     "name": "stdout",
     "output_type": "stream",
     "text": [
      "Processing fold 1/5...\n",
      "Starting transformation in StringCleanerTransformer...\n",
      "Finished transformation in StringCleanerTransformer.\n",
      "Starting transformation in StopwordFilter...\n",
      "Finished transformation in StopwordFilter.\n",
      "Starting transformation in StemmerTransformer...\n"
     ]
    }
   ],
   "source": [
    "train_model_classic = ClassifierMetricsEvaluator(model=pipeline_full_bert_binary)\n",
    "cv_scores, X_train_cv, y_cv, y_pred_cv, y_proba_cv = train_model_classic.cross_validate(X=X, y=y)\n",
    "cv_scores"
   ]
  },
  {
   "cell_type": "code",
   "execution_count": null,
   "id": "78526c26",
   "metadata": {},
   "outputs": [],
   "source": [
    "select_model = 'bert_binary'\n",
    "joblib.dump(pipeline_full_bert_binary, f'{folder}pipeline_{select_model}.joblib')"
   ]
  },
  {
   "cell_type": "code",
   "execution_count": null,
   "id": "b45bae8a",
   "metadata": {},
   "outputs": [],
   "source": [
    "plotter = ClassificationVisualizer(\n",
    "    true_labels=y_cv,\n",
    "    predicted_labels=y_pred_cv,\n",
    "    predicted_probabilities=y_proba_cv,\n",
    "    features=X_train_cv,\n",
    "    model=pipeline_full_bert_binary\n",
    ")\n",
    "\n",
    "plotter.plot_selected_charts(\n",
    "    cols = 2,\n",
    "    charts = [\n",
    "        'confusion_matrix',\n",
    "        'roc_curve',\n",
    "        'precision_recall_curve',\n",
    "        'probability_distribution',\n",
    "        'calibration_curve',\n",
    "    ]\n",
    ")"
   ]
  },
  {
   "cell_type": "code",
   "execution_count": null,
   "id": "5507f40e",
   "metadata": {},
   "outputs": [],
   "source": [
    "break"
   ]
  },
  {
   "cell_type": "code",
   "execution_count": null,
   "id": "24da6d76",
   "metadata": {},
   "outputs": [],
   "source": [
    "def plot_sentiment_prediction(input_text, pipeline):\n",
    "    \"\"\"\n",
    "    Plot a sentiment prediction result from a loaded sklearn pipeline.\n",
    "\n",
    "    Args:\n",
    "        input_text (str or list of str): Text input(s) to classify.\n",
    "        pipeline: A fitted sklearn Pipeline including preprocessing and classifier.\n",
    "    \"\"\"\n",
    "    if isinstance(input_text, str):\n",
    "        input_text = [input_text]\n",
    "\n",
    "    # Predict using the full pipeline\n",
    "    predictions = pipeline.predict(input_text)\n",
    "    probabilities = pipeline.predict_proba(input_text)\n",
    "\n",
    "    # Output formatting\n",
    "    sentiment = \"Positive\" if predictions[0] == 1 else \"Negative\"\n",
    "    color = \"green\" if sentiment == \"Positive\" else \"red\"\n",
    "\n",
    "    confidence = 100 * round(probabilities[0][1 if predictions[0] == 1 else 0], 2)\n",
    "\n",
    "    # Plot\n",
    "    fig, ax = plt.subplots(figsize=(3, 1))\n",
    "    ax.set_title(f'Sentiment Analysis: {confidence:.2f}%', fontsize=14, fontweight='bold')\n",
    "    ax.text(0.5, 0.0, sentiment, fontsize=50, ha='center', color=color)\n",
    "    ax.axis('off')\n",
    "\n",
    "    plt.show()"
   ]
  },
  {
   "cell_type": "code",
   "execution_count": null,
   "id": "2e7d457d",
   "metadata": {},
   "outputs": [],
   "source": [
    "select_model = 'tfidf_binary' #  bert_binary\n",
    "\n",
    "trained_pipeline = joblib.load(f\"{folder}pipeline_{select_model}.joblib\")"
   ]
  },
  {
   "cell_type": "code",
   "execution_count": null,
   "id": "8b21c470",
   "metadata": {},
   "outputs": [],
   "source": [
    "comment = 'Péssimo produto! Não compro nessa loja, a entrega atrasou e custou muito dinheiro!'\n",
    "plot_sentiment_prediction(comment, trained_pipeline)"
   ]
  },
  {
   "cell_type": "code",
   "execution_count": null,
   "id": "d7689c36",
   "metadata": {},
   "outputs": [],
   "source": [
    "comment = 'Adorei e realmente cumpriu as expectativas. Comprei por um valor barato. Maravilhoso'\n",
    "plot_sentiment_prediction(comment, trained_pipeline)"
   ]
  },
  {
   "cell_type": "code",
   "execution_count": null,
   "id": "7acb694e",
   "metadata": {},
   "outputs": [],
   "source": [
    "comment = 'Não sei gostei do produto. O custo foi barato mas veio com defeito. Se der sorte, vale a pena'\n",
    "plot_sentiment_prediction(comment, trained_pipeline)"
   ]
  },
  {
   "cell_type": "code",
   "execution_count": null,
   "id": "2187fafc",
   "metadata": {},
   "outputs": [],
   "source": [
    "comment = 'Vendedor confiável, produto ok e entrega antes do prazo.'\n",
    "plot_sentiment_prediction(comment, trained_pipeline)"
   ]
  },
  {
   "cell_type": "code",
   "execution_count": null,
   "id": "cd484b0a",
   "metadata": {},
   "outputs": [],
   "source": [
    "def plot_sentiment_prediction(input_text, text_pipeline, tfidf_vectorizer, classifier_model):\n",
    "\n",
    "    if isinstance(input_text, str):\n",
    "        input_text = [input_text]\n",
    "\n",
    "    \n",
    "    preprocessed_texts = text_pipeline.fit_transform(input_text)\n",
    "    text_features = tfidf_vectorizer.transform(preprocessed_texts)\n",
    "    \n",
    "    feature_names = tfidf_vectorizer.get_feature_names_out()\n",
    "    \n",
    "    X_test = pd.DataFrame(text_features.toarray(), columns=feature_names)\n",
    "    \n",
    "    # Predict sentiment and probability\n",
    "    predictions = classifier_model.predict(X_test)\n",
    "    probabilities = classifier_model.predict_proba(X_test)\n",
    "\n",
    "\n",
    "    sentiment = \"Positive\" if predictions[0] == 1 else \"Negative\"\n",
    "    color = \"green\" if sentiment == \"Positive\" else \"red\"\n",
    "    \n",
    "    confidence = 100 * round(probabilities[0][1 if predictions[0] == 1 else 0], 2)\n",
    "    \n",
    "    fig, ax = plt.subplots(figsize=(3, 1))\n",
    "    \n",
    "    ax.set_title(f'Sentiment Analysis: {confidence:.2f}%', fontsize=14, fontweight='bold')\n",
    "    ax.text(0.5, 0.0, sentiment, fontsize=50, ha='center', color=color)\n",
    "    ax.axis('off')\n",
    "    \n",
    "    plt.show()"
   ]
  },
  {
   "cell_type": "code",
   "execution_count": null,
   "id": "f6947d8b",
   "metadata": {},
   "outputs": [],
   "source": [
    "def get_word_counter_by_label(df, label_col, text_col, target_label):\n",
    "    comments = df.query(f'{label_col} == \"{target_label}\"')[text_col].dropna().tolist()\n",
    "    words = ' '.join(comments).split()\n",
    "    return Counter(words)"
   ]
  },
  {
   "cell_type": "code",
   "execution_count": null,
   "id": "9ca1351d",
   "metadata": {},
   "outputs": [],
   "source": [
    "positive_dict = get_word_counter_by_label(df_analysis, 'sentiment_label', 'comment', 'positive')\n",
    "negative_dict = get_word_counter_by_label(df_analysis, 'sentiment_label', 'comment', 'negative')\n",
    "# neutral_dict = get_word_counter_by_label(df_analysis, 'sentiment_label', 'comment', 'neutral')"
   ]
  },
  {
   "cell_type": "code",
   "execution_count": null,
   "id": "cfd562e9",
   "metadata": {},
   "outputs": [],
   "source": [
    "\n",
    "def generate_wordcloud(freq_dict, colormap='Greens'):\n",
    "    return WordCloud(\n",
    "        width=1280,\n",
    "        height=720,\n",
    "        collocations=False,\n",
    "        random_state=42,\n",
    "        colormap=colormap,\n",
    "        background_color='white',\n",
    "        max_words=50\n",
    "    ).generate_from_frequencies(freq_dict)\n",
    "    \n",
    "def plot_wordclouds(word_counters, colormaps=None):\n",
    "    labels = list(word_counters.keys())\n",
    "    n_labels = len(labels)\n",
    "    colormaps = colormaps or ['Greys'] * n_labels\n",
    "\n",
    "    fig, axs = plt.subplots(1, n_labels, figsize=(6 * n_labels, 8))\n",
    "\n",
    "    # Garante que axs seja iterável mesmo para 1 subplot\n",
    "    if n_labels == 1:\n",
    "        axs = [axs]\n",
    "\n",
    "    for ax, label, cmap in zip(axs, labels, colormaps):\n",
    "        wc = generate_wordcloud(word_counters[label], colormap=cmap)\n",
    "        ax.imshow(wc)\n",
    "        ax.axis('off')\n",
    "        ax.set_title(f'{label.capitalize()} Words', fontsize=20, fontweight='bold')\n",
    "\n",
    "    plt.tight_layout()\n",
    "    plt.show()"
   ]
  },
  {
   "cell_type": "code",
   "execution_count": null,
   "id": "271af134",
   "metadata": {},
   "outputs": [],
   "source": [
    "word_counters = {\n",
    "    'positive': positive_dict,\n",
    "    'negative': negative_dict,\n",
    "    # 'neutral': neutral_dict  # se houver\n",
    "}\n",
    "\n",
    "colormaps = ['Greens', 'Reds', 'YlOrBr']  # uma para cada label, na mesma ordem\n",
    "\n",
    "plot_wordclouds(word_counters, colormaps)"
   ]
  },
  {
   "cell_type": "code",
   "execution_count": null,
   "metadata": {},
   "outputs": [],
   "source": []
  },
  {
   "cell_type": "markdown",
   "id": "5e690651",
   "metadata": {},
   "source": [
    "# MultiClass"
   ]
  },
  {
   "cell_type": "code",
   "execution_count": null,
   "id": "0b75a0ff",
   "metadata": {},
   "outputs": [],
   "source": [
    "sentiment_label = {\n",
    "    1: 'negative',\n",
    "    2: 'negative',\n",
    "    3: 'neutral',\n",
    "    4: 'positive',\n",
    "    5: 'positive'\n",
    "}\n",
    "df_analysis['sentiment_label'] = df_analysis['score'].map(sentiment_label)"
   ]
  },
  {
   "cell_type": "code",
   "execution_count": null,
   "id": "11b6d5dd",
   "metadata": {},
   "outputs": [],
   "source": [
    "hue='sentiment_label'\n",
    "\n",
    "visualizer = EDAVisualizer(\n",
    "    dataframe=df_analysis, \n",
    "    figsize=(5, 5), \n",
    "    title = f'Number of Positive and Negative Posts'\n",
    "    )\n",
    "\n",
    "visualizer.plot_categorical_distribution(\n",
    "    category_col=hue, \n",
    "    palette = ['#2e4b3a', '#8a2c3d', '#caa038']\n",
    "    )"
   ]
  },
  {
   "cell_type": "markdown",
   "id": "88500928",
   "metadata": {},
   "source": [
    "## Pipeline Text"
   ]
  },
  {
   "cell_type": "markdown",
   "id": "00812018",
   "metadata": {},
   "source": [
    "### Clean text"
   ]
  },
  {
   "cell_type": "code",
   "execution_count": null,
   "id": "15d8c163",
   "metadata": {},
   "outputs": [],
   "source": [
    "text_cleaning_steps = [\n",
    "TextCleaner.remove_line_breaks,\n",
    "TextCleaner.remove_links,\n",
    "TextCleaner.normalize_dates,\n",
    "TextCleaner.normalize_currency,\n",
    "TextCleaner.replace_numbers,\n",
    "TextCleaner.replace_negations,\n",
    "TextCleaner.remove_special_characters,\n",
    "TextCleaner.normalize_whitespace,\n",
    "# TextCleaner.replace_emojis,\n",
    "# TextCleaner.normalize_repetitions,\n",
    "# TextCleaner.remove_accents,\n",
    "# TextCleaner.replace_slang,\n",
    "]"
   ]
  },
  {
   "cell_type": "markdown",
   "id": "e4f8e027",
   "metadata": {},
   "source": [
    "### Create TF-IDF vectorize, RSLP and Stop words"
   ]
  },
  {
   "cell_type": "code",
   "execution_count": null,
   "id": "9897980a",
   "metadata": {},
   "outputs": [],
   "source": [
    "pt_stopwords = stopwords.words('portuguese')\n",
    "rslp_stemmer = RSLPStemmer()\n",
    "\n",
    "tfidf_vectorizer = TfidfVectorizer(max_features=300, min_df=6, max_df=0.7, stop_words=pt_stopwords)"
   ]
  },
  {
   "cell_type": "code",
   "execution_count": null,
   "id": "64c43fd4",
   "metadata": {},
   "outputs": [],
   "source": [
    "text_pipeline_classic = Pipeline([\n",
    "    ('RegexCleanerTransformer', TextCleanerTransformer(text_cleaning_steps)),\n",
    "    ('StopwordRemover', StopwordRemover(pt_stopwords)),\n",
    "    ('StemmerTransformer', StemmerTransformer(rslp_stemmer)),\n",
    "    ('TextVectorizerWrapper', TextVectorizerWrapper(tfidf_vectorizer))\n",
    "])"
   ]
  },
  {
   "cell_type": "code",
   "execution_count": null,
   "id": "7199ffe7",
   "metadata": {},
   "outputs": [],
   "source": [
    "sentiment_label_encoder = {\n",
    "    'negative': 0,\n",
    "    'positive' : 1,\n",
    "    'neutral': 2,\n",
    "}\n",
    "\n",
    "y = df_analysis['sentiment_label'].map(sentiment_label_encoder).values"
   ]
  },
  {
   "cell_type": "code",
   "execution_count": null,
   "id": "38af0c85",
   "metadata": {},
   "outputs": [],
   "source": [
    "X = text_pipeline_classic.fit_transform(df_analysis['comment'].tolist())"
   ]
  },
  {
   "cell_type": "code",
   "execution_count": null,
   "id": "19b5ec11",
   "metadata": {},
   "outputs": [],
   "source": [
    "# vectorizer = text_pipeline_classic.named_steps['TextVectorizer'].vectorizer\n",
    "# feature_names = vectorizer.get_feature_names_out()\n",
    "\n",
    "# X = pd.DataFrame(X, columns=feature_names)\n",
    "\n",
    "X_train, X_test, y_train, y_test = train_test_split(X, y, random_state=42)"
   ]
  },
  {
   "cell_type": "markdown",
   "id": "958a8517",
   "metadata": {},
   "source": [
    "### Boost Hypterparametres"
   ]
  },
  {
   "cell_type": "code",
   "execution_count": null,
   "id": "b412c4dc",
   "metadata": {},
   "outputs": [],
   "source": [
    "# tuner = ClassificationHyperTuner(\n",
    "#     X_train=X_train, \n",
    "#     y_train=y_train, \n",
    "#     X_test=X_test,\n",
    "#     y_test=y_test, \n",
    "#     model_name='xgb', \n",
    "#     # use_cv=True,\n",
    "#     # use_smote=True\n",
    "# )\n",
    "\n",
    "# best_params_lgb, best_value_lgb = tuner.run_optimization()"
   ]
  },
  {
   "cell_type": "code",
   "execution_count": null,
   "id": "6ab6ba1a",
   "metadata": {},
   "outputs": [],
   "source": [
    "best_params_xgb_multiclass = {\n",
    "    \"random_state\": 42,\n",
    "    \"verbosity\": 0,\n",
    "    \"eval_metric\": \"mlogloss\", \n",
    "    \"objective\": \"multi:softprob\",\n",
    "    \"num_class\": 3,\n",
    "    \n",
    "    'learning_rate': 0.06313907879950859,\n",
    "    'n_estimators': 857,\n",
    "    'max_depth': 10,\n",
    "    'max_delta_step': 8,\n",
    "    'min_child_weight': 4,\n",
    "    'subsample': 0.7483131161847982,\n",
    "    'colsample_bytree': 0.8785629307217026,\n",
    "    'gamma': 0.7365922466769782,\n",
    "    'reg_lambda': 0.28183971758993853,\n",
    "    'alpha': 0.2155180217081268\n",
    " }"
   ]
  },
  {
   "cell_type": "code",
   "execution_count": null,
   "id": "c27ef0bf",
   "metadata": {},
   "outputs": [],
   "source": [
    "model_classic = xgb.XGBClassifier(**best_params_xgb_multiclass)\n",
    "\n",
    "pipeline_final = ImbPipeline([\n",
    "    ('model', model_classic)\n",
    "])\n",
    "\n",
    "train_model_classic = ClassifierMetricsEvaluator(model=pipeline_final)"
   ]
  },
  {
   "cell_type": "code",
   "execution_count": null,
   "id": "477571d5",
   "metadata": {},
   "outputs": [],
   "source": [
    "cv_scores, X_train_cv, y_cv, y_pred_cv, y_proba_cv = train_model_classic.cross_validate(X=X, y=y)\n",
    "cv_scores"
   ]
  },
  {
   "cell_type": "code",
   "execution_count": null,
   "id": "33581f24",
   "metadata": {},
   "outputs": [],
   "source": [
    "# joblib.dump(text_pipeline_classic, f'{folder}text_pipeline_classic.joblib')\n",
    "# joblib.dump(model_classic, f'{folder}classifier_classic.joblib')"
   ]
  },
  {
   "cell_type": "code",
   "execution_count": null,
   "id": "93793da9",
   "metadata": {},
   "outputs": [],
   "source": [
    "plotter = ClassificationPlotter(\n",
    "    true_labels=y_cv,\n",
    "    predicted_labels=y_pred_cv,\n",
    "    predicted_probabilities=y_proba_cv,\n",
    "    features=X_train_cv,\n",
    "    model=pipeline_final\n",
    ")\n",
    "\n",
    "plotter.plot_selected_charts(\n",
    "    charts = [\n",
    "        'confusion_matrix',\n",
    "        'roc_curve',\n",
    "        'precision_recall_curve',\n",
    "        'probability_distribution',\n",
    "        'calibration_curve',\n",
    "    ]\n",
    ")"
   ]
  },
  {
   "cell_type": "code",
   "execution_count": null,
   "id": "6fea07f4",
   "metadata": {},
   "outputs": [],
   "source": [
    "lgb_calibrated = CalibratedClassifierCV(\n",
    "    estimator=model_classic, \n",
    "    method='isotonic', # sigmoid   isotonic\n",
    "    cv=5,\n",
    "    # n_jobs=-1\n",
    ")\n",
    "\n",
    "smote = SMOTE(\n",
    "    random_state=42,\n",
    "    sampling_strategy='not majority'\n",
    ")"
   ]
  },
  {
   "cell_type": "code",
   "execution_count": null,
   "id": "22a1a37e",
   "metadata": {},
   "outputs": [],
   "source": [
    "pipeline_final = ImbPipeline([\n",
    "    ('smote', smote),\n",
    "    ('model', lgb_calibrated)\n",
    "])\n",
    "\n",
    "train_xgb = ClassifierMetricsEvaluator(model=pipeline_final)"
   ]
  },
  {
   "cell_type": "code",
   "execution_count": null,
   "id": "f1639216",
   "metadata": {},
   "outputs": [],
   "source": [
    "cv_scores, X_train_cv, y_cv, y_pred_cv, y_proba_cv = train_xgb.cross_validate(X=X, y=y)\n",
    "cv_scores"
   ]
  },
  {
   "cell_type": "code",
   "execution_count": null,
   "id": "0c6da391",
   "metadata": {},
   "outputs": [],
   "source": [
    "plotter = ClassificationPlotter(\n",
    "    true_labels=y_cv,\n",
    "    predicted_labels=y_pred_cv,\n",
    "    predicted_probabilities=y_proba_cv,\n",
    "    features=X_train_cv,\n",
    "    model=pipeline_final\n",
    ")\n",
    "\n",
    "plotter.plot_selected_charts(\n",
    "    charts = [\n",
    "        'confusion_matrix',\n",
    "        'roc_curve',\n",
    "        'precision_recall_curve',\n",
    "        'probability_distribution',\n",
    "        'calibration_curve',\n",
    "    ]\n",
    ")"
   ]
  },
  {
   "cell_type": "code",
   "execution_count": null,
   "id": "b4ca4829",
   "metadata": {},
   "outputs": [],
   "source": []
  },
  {
   "cell_type": "code",
   "execution_count": null,
   "id": "a92d3150",
   "metadata": {},
   "outputs": [],
   "source": []
  },
  {
   "cell_type": "code",
   "execution_count": null,
   "id": "10d4c2d8",
   "metadata": {},
   "outputs": [],
   "source": []
  },
  {
   "cell_type": "code",
   "execution_count": null,
   "id": "2bda74f8",
   "metadata": {},
   "outputs": [],
   "source": []
  },
  {
   "cell_type": "code",
   "execution_count": null,
   "id": "0c195fbd",
   "metadata": {},
   "outputs": [],
   "source": []
  },
  {
   "cell_type": "markdown",
   "id": "12408f99",
   "metadata": {},
   "source": [
    "---"
   ]
  },
  {
   "cell_type": "code",
   "execution_count": null,
   "id": "918a96e8",
   "metadata": {},
   "outputs": [],
   "source": [
    "# text_pipeline_new = Pipeline([\n",
    "#     ('RegexCleanerTransformer', TextCleanerTransformer(text_cleaning_steps)),\n",
    "#     ('StopwordRemover', StopwordRemover(pt_stopwords)),\n",
    "#     ('BertEmbeddingTransformer', BertEmbeddingTransformer(batch_size=4, max_length=128))  # ainda mais leve\n",
    "# ])\n",
    "# X = text_pipeline_new.fit_transform(df_analysis['comment'].tolist())"
   ]
  },
  {
   "cell_type": "code",
   "execution_count": null,
   "id": "5a996507",
   "metadata": {},
   "outputs": [],
   "source": [
    "# X = text_pipeline_new.fit_transform(df_analysis['comment'].tolist())"
   ]
  },
  {
   "cell_type": "code",
   "execution_count": null,
   "metadata": {},
   "outputs": [],
   "source": [
    "# model = xgb.XGBClassifier(**best_params_xgb_multiclass)\n",
    "\n",
    "# pipeline_final = ImbPipeline([\n",
    "#     ('model', model)\n",
    "# ])\n",
    "\n",
    "# train_model = ClassifierMetricsEvaluator(model=pipeline_final)"
   ]
  },
  {
   "cell_type": "code",
   "execution_count": null,
   "id": "12a1e8bd",
   "metadata": {},
   "outputs": [],
   "source": [
    "# cv_scores, X_train_cv, y_cv, y_pred_cv, y_proba_cv  = train_model.cross_validate(X=X, y=y)\n",
    "# cv_scores "
   ]
  },
  {
   "cell_type": "code",
   "execution_count": null,
   "id": "90a6d44c",
   "metadata": {},
   "outputs": [],
   "source": [
    "# plotter = ClassificationPlotter(\n",
    "#     true_labels=y_cv,\n",
    "#     predicted_labels=y_pred_cv,\n",
    "#     predicted_probabilities=y_proba_cv,\n",
    "#     features=X_train_cv,\n",
    "#     model=pipeline_final\n",
    "# )\n",
    "\n",
    "# plotter.plot_selected_charts(\n",
    "#     charts = [\n",
    "#         'confusion_matrix',\n",
    "#         'roc_curve',\n",
    "#         'precision_recall_curve',\n",
    "#         'probability_distribution',\n",
    "#         'calibration_curve',\n",
    "#     ]\n",
    "# )"
   ]
  },
  {
   "cell_type": "code",
   "execution_count": null,
   "id": "5e2773c0",
   "metadata": {},
   "outputs": [],
   "source": []
  },
  {
   "cell_type": "code",
   "execution_count": null,
   "id": "8c140ec3",
   "metadata": {},
   "outputs": [],
   "source": [
    "# joblib.dump(text_pipeline_new, 'models/text_pipeline_new.joblib')\n",
    "# joblib.dump(model, 'models/classifier_new.joblib')"
   ]
  },
  {
   "cell_type": "code",
   "execution_count": null,
   "id": "1596f805",
   "metadata": {},
   "outputs": [],
   "source": [
    "\n"
   ]
  },
  {
   "cell_type": "code",
   "execution_count": null,
   "id": "268f87b7",
   "metadata": {},
   "outputs": [],
   "source": []
  },
  {
   "cell_type": "code",
   "execution_count": null,
   "id": "0d961645",
   "metadata": {},
   "outputs": [],
   "source": []
  }
 ],
 "metadata": {
  "kernelspec": {
   "display_name": ".venv",
   "language": "python",
   "name": "python3"
  },
  "language_info": {
   "codemirror_mode": {
    "name": "ipython",
    "version": 3
   },
   "file_extension": ".py",
   "mimetype": "text/x-python",
   "name": "python",
   "nbconvert_exporter": "python",
   "pygments_lexer": "ipython3",
   "version": "3.10.12"
  }
 },
 "nbformat": 4,
 "nbformat_minor": 5
}
