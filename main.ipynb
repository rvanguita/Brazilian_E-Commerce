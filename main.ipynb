{
 "cells": [
  {
   "cell_type": "markdown",
   "id": "204473ae",
   "metadata": {},
   "source": [
    "![](assets/img/Data_Schema.png){:height=\"200px\" width=\"200px\"}"
   ]
  },
  {
   "cell_type": "code",
   "execution_count": null,
   "id": "79bc150f",
   "metadata": {
    "vscode": {
     "languageId": "plaintext"
    }
   },
   "outputs": [],
   "source": []
  }
 ],
 "metadata": {
  "language_info": {
   "name": "python"
  }
 },
 "nbformat": 4,
 "nbformat_minor": 5
}
