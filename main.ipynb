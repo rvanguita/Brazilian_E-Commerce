{
 "cells": [
  {
   "cell_type": "code",
   "execution_count": 1,
   "id": "4357c33a",
   "metadata": {},
   "outputs": [],
   "source": [
    "import pandas as pd\n",
    "import numpy as np\n",
    "import matplotlib.pyplot as plt\n",
    "import matplotlib.cm as cm\n",
    "import seaborn as sns"
   ]
  },
  {
   "cell_type": "code",
   "execution_count": 2,
   "id": "79bc150f",
   "metadata": {},
   "outputs": [],
   "source": [
    "from src.classification_hyper_tuner import *\n",
    "from src.model_evaluation import *\n",
    "from src.text_processing_utils import *\n",
    "from src.viz_and_model_analysis import *"
   ]
  },
  {
   "cell_type": "code",
   "execution_count": 3,
   "id": "4eb9bca6",
   "metadata": {},
   "outputs": [],
   "source": [
    "from collections import Counter\n",
    "from wordcloud import WordCloud"
   ]
  },
  {
   "cell_type": "code",
   "execution_count": 4,
   "id": "67a3b0a7",
   "metadata": {},
   "outputs": [],
   "source": [
    "import re\n",
    "\n",
    "# import nltk\n",
    "# nltk.download('stopwords')\n",
    "# nltk.download('rslp')\n",
    "\n",
    "from nltk.corpus import stopwords\n",
    "from nltk.stem import RSLPStemmer"
   ]
  },
  {
   "cell_type": "code",
   "execution_count": 5,
   "id": "f98c6be3",
   "metadata": {},
   "outputs": [],
   "source": [
    "from sklearn.feature_extraction.text import TfidfVectorizer\n",
    "from sklearn.calibration import CalibratedClassifierCV\n",
    "from imblearn.pipeline import Pipeline as ImbPipeline\n",
    "from imblearn.over_sampling import SMOTE\n",
    "\n",
    "from sklearn.model_selection import train_test_split"
   ]
  },
  {
   "cell_type": "code",
   "execution_count": 6,
   "id": "2e6ff9cf",
   "metadata": {},
   "outputs": [],
   "source": [
    "import lightgbm as lgb\n",
    "import xgboost as xgb"
   ]
  },
  {
   "cell_type": "code",
   "execution_count": 7,
   "id": "855c53e8-0049-4fb6-acf9-c97856958afd",
   "metadata": {},
   "outputs": [],
   "source": [
    "raw_path = 'data/archive/'\n",
    "# olist_customer = pd.read_csv(raw_path + 'olist_customers_dataset.csv')\n",
    "# olist_geolocation = pd.read_csv(raw_path + 'olist_geolocation_dataset.csv')\n",
    "# olist_orders = pd.read_csv(raw_path + 'olist_orders_dataset.csv')\n",
    "# olist_order_items = pd.read_csv(raw_path + 'olist_order_items_dataset.csv')\n",
    "# olist_order_payments = pd.read_csv(raw_path + 'olist_order_payments_dataset.csv')\n",
    "olist_order_reviews = pd.read_csv(raw_path + 'olist_order_reviews_dataset.csv')\n",
    "# olist_products = pd.read_csv(raw_path + 'olist_products_dataset.csv')\n",
    "# olist_sellers = pd.read_csv(raw_path + 'olist_sellers_dataset.csv')"
   ]
  },
  {
   "cell_type": "code",
   "execution_count": 8,
   "id": "baf94c73-159c-4dbb-b53c-52ef2c0f95c1",
   "metadata": {},
   "outputs": [],
   "source": [
    "# Collections for each dataset\n",
    "# datasets = [olist_customer, olist_geolocation, olist_orders, olist_order_items, olist_order_payments,\n",
    "#             olist_order_reviews, olist_products, olist_sellers]\n",
    "# names = ['olist_customer', 'olist_geolocation', 'olist_orders', 'olist_order_items', 'olist_order_payments',\n",
    "#          'olist_order_reviews', 'olist_products', 'olist_sellers']"
   ]
  },
  {
   "cell_type": "code",
   "execution_count": 9,
   "id": "d8bb481d-e2fb-423a-b5ac-495c1d023c26",
   "metadata": {},
   "outputs": [],
   "source": [
    "# Creating a DataFrame with useful information about all datasets\n",
    "# data_info = pd.DataFrame({})\n",
    "# data_info['dataset'] = names\n",
    "# data_info['n_rows'] = [df.shape[0] for df in datasets]\n",
    "# data_info['n_cols'] = [df.shape[1] for df in datasets]\n",
    "# data_info['null_amount'] = [df.isnull().sum().sum() for df in datasets]\n",
    "# data_info['qty_null_columns'] = [len([col for col, null in df.isnull().sum().items() if null > 0]) for df in datasets]\n",
    "# data_info['null_columns'] = [', '.join([col for col, null in df.isnull().sum().items() if null > 0]) for df in datasets]\n",
    "# data_info"
   ]
  },
  {
   "cell_type": "markdown",
   "id": "e9066863",
   "metadata": {},
   "source": [
    "---"
   ]
  },
  {
   "cell_type": "markdown",
   "id": "e8a677e8",
   "metadata": {},
   "source": [
    "# NLP"
   ]
  },
  {
   "cell_type": "code",
   "execution_count": 10,
   "id": "158eaaed",
   "metadata": {},
   "outputs": [
    {
     "data": {
      "text/html": [
       "<div>\n",
       "<style scoped>\n",
       "    .dataframe tbody tr th:only-of-type {\n",
       "        vertical-align: middle;\n",
       "    }\n",
       "\n",
       "    .dataframe tbody tr th {\n",
       "        vertical-align: top;\n",
       "    }\n",
       "\n",
       "    .dataframe thead th {\n",
       "        text-align: right;\n",
       "    }\n",
       "</style>\n",
       "<table border=\"1\" class=\"dataframe\">\n",
       "  <thead>\n",
       "    <tr style=\"text-align: right;\">\n",
       "      <th></th>\n",
       "      <th>review_id</th>\n",
       "      <th>order_id</th>\n",
       "      <th>review_score</th>\n",
       "      <th>review_comment_title</th>\n",
       "      <th>review_comment_message</th>\n",
       "      <th>review_creation_date</th>\n",
       "      <th>review_answer_timestamp</th>\n",
       "    </tr>\n",
       "  </thead>\n",
       "  <tbody>\n",
       "    <tr>\n",
       "      <th>0</th>\n",
       "      <td>7bc2406110b926393aa56f80a40eba40</td>\n",
       "      <td>73fc7af87114b39712e6da79b0a377eb</td>\n",
       "      <td>4</td>\n",
       "      <td>NaN</td>\n",
       "      <td>NaN</td>\n",
       "      <td>2018-01-18 00:00:00</td>\n",
       "      <td>2018-01-18 21:46:59</td>\n",
       "    </tr>\n",
       "    <tr>\n",
       "      <th>1</th>\n",
       "      <td>80e641a11e56f04c1ad469d5645fdfde</td>\n",
       "      <td>a548910a1c6147796b98fdf73dbeba33</td>\n",
       "      <td>5</td>\n",
       "      <td>NaN</td>\n",
       "      <td>NaN</td>\n",
       "      <td>2018-03-10 00:00:00</td>\n",
       "      <td>2018-03-11 03:05:13</td>\n",
       "    </tr>\n",
       "    <tr>\n",
       "      <th>2</th>\n",
       "      <td>228ce5500dc1d8e020d8d1322874b6f0</td>\n",
       "      <td>f9e4b658b201a9f2ecdecbb34bed034b</td>\n",
       "      <td>5</td>\n",
       "      <td>NaN</td>\n",
       "      <td>NaN</td>\n",
       "      <td>2018-02-17 00:00:00</td>\n",
       "      <td>2018-02-18 14:36:24</td>\n",
       "    </tr>\n",
       "    <tr>\n",
       "      <th>3</th>\n",
       "      <td>e64fb393e7b32834bb789ff8bb30750e</td>\n",
       "      <td>658677c97b385a9be170737859d3511b</td>\n",
       "      <td>5</td>\n",
       "      <td>NaN</td>\n",
       "      <td>Recebi bem antes do prazo estipulado.</td>\n",
       "      <td>2017-04-21 00:00:00</td>\n",
       "      <td>2017-04-21 22:02:06</td>\n",
       "    </tr>\n",
       "    <tr>\n",
       "      <th>4</th>\n",
       "      <td>f7c4243c7fe1938f181bec41a392bdeb</td>\n",
       "      <td>8e6bfb81e283fa7e4f11123a3fb894f1</td>\n",
       "      <td>5</td>\n",
       "      <td>NaN</td>\n",
       "      <td>Parabéns lojas lannister adorei comprar pela I...</td>\n",
       "      <td>2018-03-01 00:00:00</td>\n",
       "      <td>2018-03-02 10:26:53</td>\n",
       "    </tr>\n",
       "    <tr>\n",
       "      <th>...</th>\n",
       "      <td>...</td>\n",
       "      <td>...</td>\n",
       "      <td>...</td>\n",
       "      <td>...</td>\n",
       "      <td>...</td>\n",
       "      <td>...</td>\n",
       "      <td>...</td>\n",
       "    </tr>\n",
       "    <tr>\n",
       "      <th>99219</th>\n",
       "      <td>574ed12dd733e5fa530cfd4bbf39d7c9</td>\n",
       "      <td>2a8c23fee101d4d5662fa670396eb8da</td>\n",
       "      <td>5</td>\n",
       "      <td>NaN</td>\n",
       "      <td>NaN</td>\n",
       "      <td>2018-07-07 00:00:00</td>\n",
       "      <td>2018-07-14 17:18:30</td>\n",
       "    </tr>\n",
       "    <tr>\n",
       "      <th>99220</th>\n",
       "      <td>f3897127253a9592a73be9bdfdf4ed7a</td>\n",
       "      <td>22ec9f0669f784db00fa86d035cf8602</td>\n",
       "      <td>5</td>\n",
       "      <td>NaN</td>\n",
       "      <td>NaN</td>\n",
       "      <td>2017-12-09 00:00:00</td>\n",
       "      <td>2017-12-11 20:06:42</td>\n",
       "    </tr>\n",
       "    <tr>\n",
       "      <th>99221</th>\n",
       "      <td>b3de70c89b1510c4cd3d0649fd302472</td>\n",
       "      <td>55d4004744368f5571d1f590031933e4</td>\n",
       "      <td>5</td>\n",
       "      <td>NaN</td>\n",
       "      <td>Excelente mochila, entrega super rápida. Super...</td>\n",
       "      <td>2018-03-22 00:00:00</td>\n",
       "      <td>2018-03-23 09:10:43</td>\n",
       "    </tr>\n",
       "    <tr>\n",
       "      <th>99222</th>\n",
       "      <td>1adeb9d84d72fe4e337617733eb85149</td>\n",
       "      <td>7725825d039fc1f0ceb7635e3f7d9206</td>\n",
       "      <td>4</td>\n",
       "      <td>NaN</td>\n",
       "      <td>NaN</td>\n",
       "      <td>2018-07-01 00:00:00</td>\n",
       "      <td>2018-07-02 12:59:13</td>\n",
       "    </tr>\n",
       "    <tr>\n",
       "      <th>99223</th>\n",
       "      <td>efe49f1d6f951dd88b51e6ccd4cc548f</td>\n",
       "      <td>90531360ecb1eec2a1fbb265a0db0508</td>\n",
       "      <td>1</td>\n",
       "      <td>NaN</td>\n",
       "      <td>meu produto chegou e ja tenho que devolver, po...</td>\n",
       "      <td>2017-07-03 00:00:00</td>\n",
       "      <td>2017-07-03 21:01:49</td>\n",
       "    </tr>\n",
       "  </tbody>\n",
       "</table>\n",
       "<p>99224 rows × 7 columns</p>\n",
       "</div>"
      ],
      "text/plain": [
       "                              review_id                          order_id  \\\n",
       "0      7bc2406110b926393aa56f80a40eba40  73fc7af87114b39712e6da79b0a377eb   \n",
       "1      80e641a11e56f04c1ad469d5645fdfde  a548910a1c6147796b98fdf73dbeba33   \n",
       "2      228ce5500dc1d8e020d8d1322874b6f0  f9e4b658b201a9f2ecdecbb34bed034b   \n",
       "3      e64fb393e7b32834bb789ff8bb30750e  658677c97b385a9be170737859d3511b   \n",
       "4      f7c4243c7fe1938f181bec41a392bdeb  8e6bfb81e283fa7e4f11123a3fb894f1   \n",
       "...                                 ...                               ...   \n",
       "99219  574ed12dd733e5fa530cfd4bbf39d7c9  2a8c23fee101d4d5662fa670396eb8da   \n",
       "99220  f3897127253a9592a73be9bdfdf4ed7a  22ec9f0669f784db00fa86d035cf8602   \n",
       "99221  b3de70c89b1510c4cd3d0649fd302472  55d4004744368f5571d1f590031933e4   \n",
       "99222  1adeb9d84d72fe4e337617733eb85149  7725825d039fc1f0ceb7635e3f7d9206   \n",
       "99223  efe49f1d6f951dd88b51e6ccd4cc548f  90531360ecb1eec2a1fbb265a0db0508   \n",
       "\n",
       "       review_score review_comment_title  \\\n",
       "0                 4                  NaN   \n",
       "1                 5                  NaN   \n",
       "2                 5                  NaN   \n",
       "3                 5                  NaN   \n",
       "4                 5                  NaN   \n",
       "...             ...                  ...   \n",
       "99219             5                  NaN   \n",
       "99220             5                  NaN   \n",
       "99221             5                  NaN   \n",
       "99222             4                  NaN   \n",
       "99223             1                  NaN   \n",
       "\n",
       "                                  review_comment_message review_creation_date  \\\n",
       "0                                                    NaN  2018-01-18 00:00:00   \n",
       "1                                                    NaN  2018-03-10 00:00:00   \n",
       "2                                                    NaN  2018-02-17 00:00:00   \n",
       "3                  Recebi bem antes do prazo estipulado.  2017-04-21 00:00:00   \n",
       "4      Parabéns lojas lannister adorei comprar pela I...  2018-03-01 00:00:00   \n",
       "...                                                  ...                  ...   \n",
       "99219                                                NaN  2018-07-07 00:00:00   \n",
       "99220                                                NaN  2017-12-09 00:00:00   \n",
       "99221  Excelente mochila, entrega super rápida. Super...  2018-03-22 00:00:00   \n",
       "99222                                                NaN  2018-07-01 00:00:00   \n",
       "99223  meu produto chegou e ja tenho que devolver, po...  2017-07-03 00:00:00   \n",
       "\n",
       "      review_answer_timestamp  \n",
       "0         2018-01-18 21:46:59  \n",
       "1         2018-03-11 03:05:13  \n",
       "2         2018-02-18 14:36:24  \n",
       "3         2017-04-21 22:02:06  \n",
       "4         2018-03-02 10:26:53  \n",
       "...                       ...  \n",
       "99219     2018-07-14 17:18:30  \n",
       "99220     2017-12-11 20:06:42  \n",
       "99221     2018-03-23 09:10:43  \n",
       "99222     2018-07-02 12:59:13  \n",
       "99223     2017-07-03 21:01:49  \n",
       "\n",
       "[99224 rows x 7 columns]"
      ]
     },
     "execution_count": 10,
     "metadata": {},
     "output_type": "execute_result"
    }
   ],
   "source": [
    "olist_order_reviews"
   ]
  },
  {
   "cell_type": "code",
   "execution_count": 11,
   "id": "d4f4d86b",
   "metadata": {},
   "outputs": [
    {
     "data": {
      "text/plain": [
       "99224"
      ]
     },
     "execution_count": 11,
     "metadata": {},
     "output_type": "execute_result"
    }
   ],
   "source": [
    "df_raw = olist_order_reviews.loc[:, ['review_score', 'review_comment_message']]\n",
    "df_analysis = df_raw.copy()\n",
    "len(df_analysis)"
   ]
  },
  {
   "cell_type": "code",
   "execution_count": 12,
   "id": "ded4bacc",
   "metadata": {},
   "outputs": [
    {
     "data": {
      "text/plain": [
       "40977"
      ]
     },
     "execution_count": 12,
     "metadata": {},
     "output_type": "execute_result"
    }
   ],
   "source": [
    "df_analysis = df_analysis.dropna(subset=['review_comment_message'])\n",
    "df_analysis = df_analysis.reset_index(drop=True)\n",
    "len(df_analysis)"
   ]
  },
  {
   "cell_type": "code",
   "execution_count": 13,
   "id": "e1c33f81",
   "metadata": {},
   "outputs": [
    {
     "data": {
      "text/plain": [
       "36159"
      ]
     },
     "execution_count": 13,
     "metadata": {},
     "output_type": "execute_result"
    }
   ],
   "source": [
    "df_analysis = df_analysis.drop_duplicates(subset='review_comment_message', keep='first').reset_index(drop=True)\n",
    "len(df_analysis)"
   ]
  },
  {
   "cell_type": "code",
   "execution_count": 14,
   "id": "555229df",
   "metadata": {},
   "outputs": [
    {
     "data": {
      "text/html": [
       "<div>\n",
       "<style scoped>\n",
       "    .dataframe tbody tr th:only-of-type {\n",
       "        vertical-align: middle;\n",
       "    }\n",
       "\n",
       "    .dataframe tbody tr th {\n",
       "        vertical-align: top;\n",
       "    }\n",
       "\n",
       "    .dataframe thead th {\n",
       "        text-align: right;\n",
       "    }\n",
       "</style>\n",
       "<table border=\"1\" class=\"dataframe\">\n",
       "  <thead>\n",
       "    <tr style=\"text-align: right;\">\n",
       "      <th></th>\n",
       "      <th>score</th>\n",
       "      <th>comment</th>\n",
       "    </tr>\n",
       "  </thead>\n",
       "  <tbody>\n",
       "    <tr>\n",
       "      <th>0</th>\n",
       "      <td>5</td>\n",
       "      <td>Recebi bem antes do prazo estipulado.</td>\n",
       "    </tr>\n",
       "    <tr>\n",
       "      <th>1</th>\n",
       "      <td>5</td>\n",
       "      <td>Parabéns lojas lannister adorei comprar pela I...</td>\n",
       "    </tr>\n",
       "    <tr>\n",
       "      <th>2</th>\n",
       "      <td>4</td>\n",
       "      <td>aparelho eficiente. no site a marca do aparelh...</td>\n",
       "    </tr>\n",
       "    <tr>\n",
       "      <th>3</th>\n",
       "      <td>4</td>\n",
       "      <td>Mas um pouco ,travando...pelo valor ta Boa.\\r\\n</td>\n",
       "    </tr>\n",
       "    <tr>\n",
       "      <th>4</th>\n",
       "      <td>5</td>\n",
       "      <td>Vendedor confiável, produto ok e entrega antes...</td>\n",
       "    </tr>\n",
       "    <tr>\n",
       "      <th>...</th>\n",
       "      <td>...</td>\n",
       "      <td>...</td>\n",
       "    </tr>\n",
       "    <tr>\n",
       "      <th>36154</th>\n",
       "      <td>4</td>\n",
       "      <td>para este produto recebi de acordo com a compr...</td>\n",
       "    </tr>\n",
       "    <tr>\n",
       "      <th>36155</th>\n",
       "      <td>5</td>\n",
       "      <td>Entregou dentro do prazo. O produto chegou em ...</td>\n",
       "    </tr>\n",
       "    <tr>\n",
       "      <th>36156</th>\n",
       "      <td>3</td>\n",
       "      <td>O produto não foi enviado com NF, não existe v...</td>\n",
       "    </tr>\n",
       "    <tr>\n",
       "      <th>36157</th>\n",
       "      <td>5</td>\n",
       "      <td>Excelente mochila, entrega super rápida. Super...</td>\n",
       "    </tr>\n",
       "    <tr>\n",
       "      <th>36158</th>\n",
       "      <td>1</td>\n",
       "      <td>meu produto chegou e ja tenho que devolver, po...</td>\n",
       "    </tr>\n",
       "  </tbody>\n",
       "</table>\n",
       "<p>36159 rows × 2 columns</p>\n",
       "</div>"
      ],
      "text/plain": [
       "       score                                            comment\n",
       "0          5              Recebi bem antes do prazo estipulado.\n",
       "1          5  Parabéns lojas lannister adorei comprar pela I...\n",
       "2          4  aparelho eficiente. no site a marca do aparelh...\n",
       "3          4    Mas um pouco ,travando...pelo valor ta Boa.\\r\\n\n",
       "4          5  Vendedor confiável, produto ok e entrega antes...\n",
       "...      ...                                                ...\n",
       "36154      4  para este produto recebi de acordo com a compr...\n",
       "36155      5  Entregou dentro do prazo. O produto chegou em ...\n",
       "36156      3  O produto não foi enviado com NF, não existe v...\n",
       "36157      5  Excelente mochila, entrega super rápida. Super...\n",
       "36158      1  meu produto chegou e ja tenho que devolver, po...\n",
       "\n",
       "[36159 rows x 2 columns]"
      ]
     },
     "execution_count": 14,
     "metadata": {},
     "output_type": "execute_result"
    }
   ],
   "source": [
    "df_analysis.columns = ['score', 'comment']\n",
    "df_analysis"
   ]
  },
  {
   "cell_type": "code",
   "execution_count": 15,
   "id": "0b75a0ff",
   "metadata": {},
   "outputs": [],
   "source": [
    "sentiment_label = {\n",
    "    1: 'negative',\n",
    "    2: 'negative',\n",
    "    3: 'neutral',\n",
    "    4: 'positive',\n",
    "    5: 'positive'\n",
    "}\n",
    "df_analysis['sentiment_label'] = df_analysis['score'].map(sentiment_label)"
   ]
  },
  {
   "cell_type": "code",
   "execution_count": 16,
   "id": "11b6d5dd",
   "metadata": {},
   "outputs": [
    {
     "data": {
      "image/png": "[encoded data removed]",
      "text/plain": [
       "<Figure size 500x500 with 1 Axes>"
      ]
     },
     "metadata": {},
     "output_type": "display_data"
    }
   ],
   "source": [
    "hue='sentiment_label'\n",
    "\n",
    "visualizer = DataVisualizer(\n",
    "    dataframe=df_analysis, \n",
    "    figsize=(5, 5), \n",
    "    title = f'Number of Positive and Negative Posts'\n",
    "    )\n",
    "\n",
    "visualizer.plot_categorical_distribution(\n",
    "    category_col=hue, \n",
    "    palette = ['#2e4b3a', '#8a2c3d', '#caa038']\n",
    "    )"
   ]
  },
  {
   "cell_type": "markdown",
   "id": "88500928",
   "metadata": {},
   "source": [
    "# Pipeline Text"
   ]
  },
  {
   "cell_type": "markdown",
   "id": "00812018",
   "metadata": {},
   "source": [
    "## Clean text"
   ]
  },
  {
   "cell_type": "code",
   "execution_count": 17,
   "id": "15d8c163",
   "metadata": {},
   "outputs": [],
   "source": [
    "regex_cleaner = [\n",
    "    RegexCleanerTransformer.clean_line_breaks,\n",
    "    RegexCleanerTransformer.clean_links,\n",
    "    RegexCleanerTransformer.clean_dates,\n",
    "    RegexCleanerTransformer.clean_currency,\n",
    "    RegexCleanerTransformer.clean_numbers,\n",
    "    RegexCleanerTransformer.clean_negations,\n",
    "    RegexCleanerTransformer.clean_special_characters,\n",
    "    RegexCleanerTransformer.clean_whitespace,\n",
    "    # RegexCleanerTransformer.clean_emojis,\n",
    "    # RegexCleanerTransformer.reduce_repeated_chars,\n",
    "    # RegexCleanerTransformer.remove_accents,\n",
    "    # RegexCleanerTransformer.replace_slang,\n",
    "]"
   ]
  },
  {
   "cell_type": "markdown",
   "id": "e4f8e027",
   "metadata": {},
   "source": [
    "## Create TF-IDF vectorize, RSLP and Stop words"
   ]
  },
  {
   "cell_type": "code",
   "execution_count": 18,
   "id": "9897980a",
   "metadata": {},
   "outputs": [],
   "source": [
    "pt_stopwords = stopwords.words('portuguese')\n",
    "rslp_stemmer = RSLPStemmer()\n",
    "\n",
    "tfidf_vectorizer = TfidfVectorizer(max_features=300, min_df=6, max_df=0.7, stop_words=pt_stopwords)"
   ]
  },
  {
   "cell_type": "code",
   "execution_count": 19,
   "id": "64c43fd4",
   "metadata": {},
   "outputs": [],
   "source": [
    "text_pipeline_classic = Pipeline([\n",
    "    ('RegexCleanerTransformer', RegexCleanerTransformer(regex_cleaner)),\n",
    "    ('StopwordRemover', StopwordRemover(pt_stopwords)),\n",
    "    ('StemmerTransformer', StemmerTransformer(rslp_stemmer)),\n",
    "    ('TextVectorizer', TextVectorizer(tfidf_vectorizer))\n",
    "])"
   ]
  },
  {
   "cell_type": "code",
   "execution_count": 20,
   "id": "7199ffe7",
   "metadata": {},
   "outputs": [],
   "source": [
    "sentiment_label_encoder = {\n",
    "    'negative': 0,\n",
    "    'positive' : 1,\n",
    "    'neutral': 2,\n",
    "}\n",
    "\n",
    "y = df_analysis['sentiment_label'].map(sentiment_label_encoder).values"
   ]
  },
  {
   "cell_type": "code",
   "execution_count": 21,
   "id": "38af0c85",
   "metadata": {},
   "outputs": [],
   "source": [
    "X = text_pipeline_classic.fit_transform(df_analysis['comment'].tolist())"
   ]
  },
  {
   "cell_type": "code",
   "execution_count": 22,
   "id": "19b5ec11",
   "metadata": {},
   "outputs": [],
   "source": [
    "vectorizer = text_pipeline_classic.named_steps['TextVectorizer'].vectorizer\n",
    "feature_names = vectorizer.get_feature_names_out()\n",
    "\n",
    "X = pd.DataFrame(X, columns=feature_names)\n",
    "\n",
    "X_train, X_test, y_train, y_test = train_test_split(X, y, random_state=42)"
   ]
  },
  {
   "cell_type": "markdown",
   "id": "958a8517",
   "metadata": {},
   "source": [
    "### Boost Hypterparametres"
   ]
  },
  {
   "cell_type": "code",
   "execution_count": null,
   "id": "b412c4dc",
   "metadata": {},
   "outputs": [
    {
     "name": "stderr",
     "output_type": "stream",
     "text": [
      "[I 2025-04-21 16:07:57,753] A new study created in memory with name: no-name-8ec8c188-5e82-459e-962c-9cdc423cc9f5\n"
     ]
    },
    {
     "data": {
      "application/vnd.jupyter.widget-view+json": {
       "model_id": "9de67b5b73c344958f656384a9ebd3ea",
       "version_major": 2,
       "version_minor": 0
      },
      "text/plain": [
       "  0%|          | 0/100 [00:00<?, ?it/s]"
      ]
     },
     "metadata": {},
     "output_type": "display_data"
    },
    {
     "name": "stdout",
     "output_type": "stream",
     "text": [
      "[I 2025-04-21 16:08:13,448] Trial 0 finished with value: 0.5622245295318287 and parameters: {'learning_rate': 0.00505837546290573, 'n_estimators': 2244, 'class_weight': None, 'num_leaves': 107, 'max_depth': 4, 'min_data_in_leaf': 20, 'subsample': 0.8173605261038143, 'colsample_bytree': 0.9101081450088822, 'reg_alpha': 0.0018612636152139437, 'reg_lambda': 0.007744704454540111, 'max_bin': 243}. Best is trial 0 with value: 0.5622245295318287.\n",
      "[I 2025-04-21 16:08:36,153] Trial 1 finished with value: 0.6302451448539661 and parameters: {'learning_rate': 0.0022780705559717097, 'n_estimators': 2459, 'class_weight': 'balanced', 'num_leaves': 99, 'max_depth': 5, 'min_data_in_leaf': 31, 'subsample': 0.8615557633195396, 'colsample_bytree': 0.7386546247964842, 'reg_alpha': 0.8899917166727281, 'reg_lambda': 0.0406074486557649, 'max_bin': 241}. Best is trial 1 with value: 0.6302451448539661.\n",
      "[I 2025-04-21 16:08:57,363] Trial 2 finished with value: 0.5900015339706248 and parameters: {'learning_rate': 0.010783385215031402, 'n_estimators': 2453, 'class_weight': None, 'num_leaves': 98, 'max_depth': 6, 'min_data_in_leaf': 41, 'subsample': 0.7350727658164894, 'colsample_bytree': 0.7489620405133535, 'reg_alpha': 0.14429684394620745, 'reg_lambda': 0.06955170740435308, 'max_bin': 245}. Best is trial 1 with value: 0.6302451448539661.\n",
      "[I 2025-04-21 16:09:26,339] Trial 3 finished with value: 0.5320101116185366 and parameters: {'learning_rate': 0.0010569952370365644, 'n_estimators': 1796, 'class_weight': None, 'num_leaves': 118, 'max_depth': 6, 'min_data_in_leaf': 13, 'subsample': 0.7322562775917998, 'colsample_bytree': 0.8386865744088985, 'reg_alpha': 0.003921867887614012, 'reg_lambda': 0.025113244354324393, 'max_bin': 240}. Best is trial 1 with value: 0.6302451448539661.\n",
      "[I 2025-04-21 16:09:39,257] Trial 4 finished with value: 0.6044397317805255 and parameters: {'learning_rate': 0.039363787836321086, 'n_estimators': 980, 'class_weight': None, 'num_leaves': 95, 'max_depth': 8, 'min_data_in_leaf': 15, 'subsample': 0.8549572602427322, 'colsample_bytree': 0.7736590101096661, 'reg_alpha': 0.0011933177998566843, 'reg_lambda': 0.07601308661243436, 'max_bin': 250}. Best is trial 1 with value: 0.6302451448539661.\n",
      "[I 2025-04-21 16:10:17,160] Trial 5 finished with value: 0.5732238353255669 and parameters: {'learning_rate': 0.003022076659075, 'n_estimators': 1725, 'class_weight': None, 'num_leaves': 43, 'max_depth': 12, 'min_data_in_leaf': 20, 'subsample': 0.8911449630100596, 'colsample_bytree': 0.9054648780036681, 'reg_alpha': 0.0026505928107507285, 'reg_lambda': 0.045397145549867624, 'max_bin': 205}. Best is trial 1 with value: 0.6302451448539661.\n",
      "[I 2025-04-21 16:10:27,511] Trial 6 finished with value: 0.6164016562976676 and parameters: {'learning_rate': 0.06545253438300275, 'n_estimators': 1078, 'class_weight': None, 'num_leaves': 127, 'max_depth': 8, 'min_data_in_leaf': 49, 'subsample': 0.8491855320071182, 'colsample_bytree': 0.931730799119753, 'reg_alpha': 0.0011546184225167827, 'reg_lambda': 0.013001087970069384, 'max_bin': 202}. Best is trial 1 with value: 0.6302451448539661.\n",
      "[I 2025-04-21 16:10:50,613] Trial 7 finished with value: 0.5852024855509669 and parameters: {'learning_rate': 0.007879256332769376, 'n_estimators': 1897, 'class_weight': None, 'num_leaves': 51, 'max_depth': 7, 'min_data_in_leaf': 25, 'subsample': 0.8522082058331937, 'colsample_bytree': 0.7190893116846889, 'reg_alpha': 0.9778408094211481, 'reg_lambda': 0.014122989761319767, 'max_bin': 255}. Best is trial 1 with value: 0.6302451448539661.\n",
      "[I 2025-04-21 16:11:04,886] Trial 8 finished with value: 0.6413565183762991 and parameters: {'learning_rate': 0.016947175068970234, 'n_estimators': 805, 'class_weight': 'balanced', 'num_leaves': 111, 'max_depth': 9, 'min_data_in_leaf': 13, 'subsample': 0.770712937161764, 'colsample_bytree': 0.8271039341328181, 'reg_alpha': 0.10747263018255536, 'reg_lambda': 0.19592559703766496, 'max_bin': 223}. Best is trial 8 with value: 0.6413565183762991.\n",
      "[I 2025-04-21 16:11:23,750] Trial 9 finished with value: 0.6232446004398092 and parameters: {'learning_rate': 0.0036787928053943985, 'n_estimators': 530, 'class_weight': 'balanced', 'num_leaves': 128, 'max_depth': 12, 'min_data_in_leaf': 47, 'subsample': 0.7346230778955767, 'colsample_bytree': 0.777295147089398, 'reg_alpha': 0.029458744040920144, 'reg_lambda': 0.18843177923839086, 'max_bin': 211}. Best is trial 8 with value: 0.6413565183762991.\n",
      "[I 2025-04-21 16:11:33,212] Trial 10 finished with value: 0.6363599517962208 and parameters: {'learning_rate': 0.023255754582158113, 'n_estimators': 509, 'class_weight': 'balanced', 'num_leaves': 65, 'max_depth': 10, 'min_data_in_leaf': 34, 'subsample': 0.773736880071159, 'colsample_bytree': 0.8482297057849789, 'reg_alpha': 0.04436726752721233, 'reg_lambda': 0.9361961333318932, 'max_bin': 222}. Best is trial 8 with value: 0.6413565183762991.\n",
      "[I 2025-04-21 16:11:43,836] Trial 11 finished with value: 0.636893310550431 and parameters: {'learning_rate': 0.021557492841806466, 'n_estimators': 548, 'class_weight': 'balanced', 'num_leaves': 68, 'max_depth': 10, 'min_data_in_leaf': 34, 'subsample': 0.7769524683260591, 'colsample_bytree': 0.8436832600179576, 'reg_alpha': 0.05354305590441462, 'reg_lambda': 0.9152227483729806, 'max_bin': 222}. Best is trial 8 with value: 0.6413565183762991.\n",
      "[I 2025-04-21 16:11:59,545] Trial 12 finished with value: 0.6393076105455123 and parameters: {'learning_rate': 0.0167877579038288, 'n_estimators': 973, 'class_weight': 'balanced', 'num_leaves': 75, 'max_depth': 10, 'min_data_in_leaf': 37, 'subsample': 0.7865422262403459, 'colsample_bytree': 0.8682853139749632, 'reg_alpha': 0.10250549667096824, 'reg_lambda': 0.9269691138467896, 'max_bin': 225}. Best is trial 8 with value: 0.6413565183762991.\n",
      "[I 2025-04-21 16:12:17,108] Trial 13 finished with value: 0.6419397752919545 and parameters: {'learning_rate': 0.01501136013825987, 'n_estimators': 1117, 'class_weight': 'balanced', 'num_leaves': 81, 'max_depth': 10, 'min_data_in_leaf': 42, 'subsample': 0.7970937070771966, 'colsample_bytree': 0.8730552915740363, 'reg_alpha': 0.22820925869283412, 'reg_lambda': 0.00111948920778324, 'max_bin': 231}. Best is trial 13 with value: 0.6419397752919545.\n",
      "[I 2025-04-21 16:12:25,646] Trial 14 finished with value: 0.6411579870320981 and parameters: {'learning_rate': 0.07496958769133989, 'n_estimators': 749, 'class_weight': 'balanced', 'num_leaves': 84, 'max_depth': 9, 'min_data_in_leaf': 41, 'subsample': 0.8074226370480861, 'colsample_bytree': 0.806908230281294, 'reg_alpha': 0.3274465881041354, 'reg_lambda': 0.0010927722394877145, 'max_bin': 232}. Best is trial 13 with value: 0.6419397752919545.\n",
      "[I 2025-04-21 16:12:50,505] Trial 15 finished with value: 0.6372917973257248 and parameters: {'learning_rate': 0.01096434776799901, 'n_estimators': 1266, 'class_weight': 'balanced', 'num_leaves': 112, 'max_depth': 11, 'min_data_in_leaf': 26, 'subsample': 0.7061294709287456, 'colsample_bytree': 0.8777236215182866, 'reg_alpha': 0.01745448661707616, 'reg_lambda': 0.001016300934161865, 'max_bin': 233}. Best is trial 13 with value: 0.6419397752919545.\n",
      "[I 2025-04-21 16:13:02,184] Trial 16 finished with value: 0.6418686727426507 and parameters: {'learning_rate': 0.034017084975405044, 'n_estimators': 794, 'class_weight': 'balanced', 'num_leaves': 85, 'max_depth': 9, 'min_data_in_leaf': 10, 'subsample': 0.75279245184691, 'colsample_bytree': 0.8143109753890727, 'reg_alpha': 0.36680536610610576, 'reg_lambda': 0.002768751371629855, 'max_bin': 215}. Best is trial 13 with value: 0.6419397752919545.\n",
      "[I 2025-04-21 16:13:15,149] Trial 17 finished with value: 0.6407302887920446 and parameters: {'learning_rate': 0.0402377949350269, 'n_estimators': 1103, 'class_weight': 'balanced', 'num_leaves': 84, 'max_depth': 9, 'min_data_in_leaf': 44, 'subsample': 0.7497979996528864, 'colsample_bytree': 0.8049013064723616, 'reg_alpha': 0.3865619352832597, 'reg_lambda': 0.003248862560977011, 'max_bin': 215}. Best is trial 13 with value: 0.6419397752919545.\n",
      "[I 2025-04-21 16:13:29,213] Trial 18 finished with value: 0.6430114440286571 and parameters: {'learning_rate': 0.03692943801628462, 'n_estimators': 836, 'class_weight': 'balanced', 'num_leaves': 57, 'max_depth': 11, 'min_data_in_leaf': 26, 'subsample': 0.8227059502749904, 'colsample_bytree': 0.9466481627216381, 'reg_alpha': 0.28528926694068923, 'reg_lambda': 0.0026461934994303784, 'max_bin': 215}. Best is trial 18 with value: 0.6430114440286571.\n",
      "[I 2025-04-21 16:13:47,972] Trial 19 finished with value: 0.6349550417269382 and parameters: {'learning_rate': 0.09202505151144015, 'n_estimators': 1254, 'class_weight': 'balanced', 'num_leaves': 56, 'max_depth': 11, 'min_data_in_leaf': 27, 'subsample': 0.816372295995056, 'colsample_bytree': 0.9282684216297358, 'reg_alpha': 0.010519378487695888, 'reg_lambda': 0.002186568193225434, 'max_bin': 231}. Best is trial 18 with value: 0.6430114440286571.\n",
      "[I 2025-04-21 16:14:10,353] Trial 20 finished with value: 0.6384765127947273 and parameters: {'learning_rate': 0.006853426767306411, 'n_estimators': 1440, 'class_weight': 'balanced', 'num_leaves': 32, 'max_depth': 11, 'min_data_in_leaf': 21, 'subsample': 0.8277421495961945, 'colsample_bytree': 0.9495983712754497, 'reg_alpha': 0.23216313153258183, 'reg_lambda': 0.005062636750111767, 'max_bin': 209}. Best is trial 18 with value: 0.6430114440286571.\n",
      "[I 2025-04-21 16:14:23,323] Trial 21 finished with value: 0.6410322532354696 and parameters: {'learning_rate': 0.03989489777365914, 'n_estimators': 799, 'class_weight': 'balanced', 'num_leaves': 75, 'max_depth': 10, 'min_data_in_leaf': 18, 'subsample': 0.7987884536591862, 'colsample_bytree': 0.8759694963534463, 'reg_alpha': 0.46440473757755374, 'reg_lambda': 0.0019129181832399065, 'max_bin': 216}. Best is trial 18 with value: 0.6430114440286571.\n",
      "[I 2025-04-21 16:14:33,579] Trial 22 finished with value: 0.6413478563078453 and parameters: {'learning_rate': 0.034235826445760544, 'n_estimators': 687, 'class_weight': 'balanced', 'num_leaves': 61, 'max_depth': 9, 'min_data_in_leaf': 10, 'subsample': 0.759936071977964, 'colsample_bytree': 0.8959038243684259, 'reg_alpha': 0.1833702117694421, 'reg_lambda': 0.00406382843320421, 'max_bin': 217}. Best is trial 18 with value: 0.6430114440286571.\n"
     ]
    }
   ],
   "source": [
    "tuner = ClassificationHyperTuner(\n",
    "    X_train=X_train, \n",
    "    y_train=y_train, \n",
    "    X_test=X_test,\n",
    "    y_test=y_test, \n",
    "    model_name='lgb', \n",
    "    # use_cv=True,\n",
    "    # use_smote=True\n",
    ")\n",
    "\n",
    "best_params_lgb, best_value_lgb = tuner.run_optimization()"
   ]
  },
  {
   "cell_type": "code",
   "execution_count": null,
   "id": "0f2d7a1a",
   "metadata": {},
   "outputs": [],
   "source": [
    "best_params_lgb"
   ]
  },
  {
   "cell_type": "code",
   "execution_count": null,
   "id": "1a866681",
   "metadata": {},
   "outputs": [],
   "source": [
    "stop()"
   ]
  },
  {
   "cell_type": "code",
   "execution_count": null,
   "id": "1b70c5ca",
   "metadata": {},
   "outputs": [],
   "source": [
    "# best_params_lgb_balanced = {\n",
    "#    'learning_rate': 0.04182111901348278,\n",
    "#    'n_estimators': 902,\n",
    "#    'num_leaves': 36,\n",
    "#    'max_depth': 10,\n",
    "#    'min_data_in_leaf': 12,\n",
    "#    'subsample': 0.7661293969659289,\n",
    "#    'colsample_bytree': 0.9372152312137342,\n",
    "#    'reg_alpha': 0.8440322223124193,\n",
    "#    'reg_lambda': 0.01960427092078354,\n",
    "#    'max_bin': 253,\n",
    "#    'scale_pos_weight': 0.8664764286312472,\n",
    "#    \"verbose\": -1}"
   ]
  },
  {
   "cell_type": "code",
   "execution_count": null,
   "id": "6ab6ba1a",
   "metadata": {},
   "outputs": [],
   "source": []
  },
  {
   "cell_type": "code",
   "execution_count": null,
   "id": "c27ef0bf",
   "metadata": {},
   "outputs": [],
   "source": [
    "model_lgb = lgb.LGBMClassifier(**best_params_lgb)\n",
    "\n",
    "pipeline_final = ImbPipeline([\n",
    "    ('model', model_lgb)\n",
    "])\n",
    "\n",
    "train_xgb = ClassificationEvaluator(model=pipeline_final)"
   ]
  },
  {
   "cell_type": "code",
   "execution_count": null,
   "id": "477571d5",
   "metadata": {},
   "outputs": [],
   "source": [
    "cv_scores_lgb, X_train_cv, y_cv, y_pred_cv, y_proba_cv = train_xgb.cross_validate(X=X, y=y)\n",
    "cv_scores_lgb"
   ]
  },
  {
   "cell_type": "code",
   "execution_count": null,
   "id": "93793da9",
   "metadata": {},
   "outputs": [],
   "source": [
    "plotter = ClassificationPlotter(\n",
    "    true_labels=y_cv,\n",
    "    predicted_labels=y_pred_cv,\n",
    "    predicted_probabilities=y_proba_cv,\n",
    "    features=X_train_cv,\n",
    "    model=pipeline_final\n",
    ")\n",
    "\n",
    "plotter.plot_selected_charts(\n",
    "    charts = [\n",
    "        'confusion_matrix',\n",
    "        # 'roc_curve',\n",
    "        # 'precision_recall_curve',\n",
    "        'probability_distribution',\n",
    "        'calibration_curve',\n",
    "        # 'learning_curve'\n",
    "    ]\n",
    ")"
   ]
  },
  {
   "cell_type": "code",
   "execution_count": null,
   "id": "6fea07f4",
   "metadata": {},
   "outputs": [],
   "source": [
    "lgb_calibrated = CalibratedClassifierCV(\n",
    "    estimator=model_lgb, # type: ignore\n",
    "    method='isotonic',\n",
    "    cv=5,\n",
    "    # n_jobs=-1\n",
    ")\n",
    "\n",
    "smote = SMOTE()"
   ]
  },
  {
   "cell_type": "code",
   "execution_count": null,
   "id": "22a1a37e",
   "metadata": {},
   "outputs": [],
   "source": [
    "pipeline_final = ImbPipeline([\n",
    "    ('smote', smote),\n",
    "    ('model', lgb_calibrated)\n",
    "])\n",
    "\n",
    "train_xgb = ClassificationEvaluator(model=pipeline_final)"
   ]
  },
  {
   "cell_type": "code",
   "execution_count": null,
   "id": "f1639216",
   "metadata": {},
   "outputs": [],
   "source": [
    "cv_scores_lgb_calibrated, X_train_cv, y_cv, y_pred_cv, y_proba_cv = train_xgb.cross_validate(X=X, y=y)\n",
    "cv_scores_lgb_calibrated"
   ]
  },
  {
   "cell_type": "code",
   "execution_count": null,
   "id": "0c6da391",
   "metadata": {},
   "outputs": [],
   "source": [
    "plotter = ClassificationPlotter(\n",
    "    true_labels=y_cv,\n",
    "    predicted_labels=y_pred_cv,\n",
    "    predicted_probabilities=y_proba_cv,\n",
    "    features=X_train_cv,\n",
    "    model=pipeline_final\n",
    ")\n",
    "\n",
    "plotter.plot_selected_charts(\n",
    "    charts = [\n",
    "        'confusion_matrix',\n",
    "        # 'roc_curve',\n",
    "        # 'precision_recall_curve',\n",
    "        'probability_distribution',\n",
    "        'calibration_curve',\n",
    "        # 'learning_curve'\n",
    "    ]\n",
    ")"
   ]
  },
  {
   "cell_type": "code",
   "execution_count": null,
   "id": "b4ca4829",
   "metadata": {},
   "outputs": [],
   "source": [
    "def plot_sentiment_prediction(input_text, text_pipeline, tfidf_vectorizer, classifier_model):\n",
    "\n",
    "    if isinstance(input_text, str):\n",
    "        input_text = [input_text]\n",
    "\n",
    "    \n",
    "    preprocessed_texts = text_pipeline.fit_transform(input_text)\n",
    "    text_features = tfidf_vectorizer.transform(preprocessed_texts)\n",
    "    \n",
    "    feature_names = tfidf_vectorizer.get_feature_names_out()\n",
    "    \n",
    "    X_test = pd.DataFrame(text_features.toarray(), columns=feature_names)\n",
    "    \n",
    "    # Predict sentiment and probability\n",
    "    predictions = classifier_model.predict(X_test)\n",
    "    probabilities = classifier_model.predict_proba(X_test)\n",
    "\n",
    "\n",
    "    sentiment = \"Positive\" if predictions[0] == 1 else \"Negative\"\n",
    "    color = \"green\" if sentiment == \"Positive\" else \"red\"\n",
    "    \n",
    "    confidence = 100 * round(probabilities[0][1 if predictions[0] == 1 else 0], 2)\n",
    "    \n",
    "    fig, ax = plt.subplots(figsize=(3, 1))\n",
    "    \n",
    "    ax.set_title(f'Sentiment Analysis: {confidence:.2f}%', fontsize=14, fontweight='bold')\n",
    "    ax.text(0.5, 0.0, sentiment, fontsize=50, ha='center', color=color)\n",
    "    ax.axis('off')\n",
    "    \n",
    "    plt.show()"
   ]
  },
  {
   "cell_type": "code",
   "execution_count": null,
   "id": "2eb558fd",
   "metadata": {},
   "outputs": [],
   "source": [
    "trained_pipeline = Pipeline([\n",
    "    ('RegexCleanerTransformer', RegexCleanerTransformer(regex_cleaner)),\n",
    "    ('StopwordRemover', StopwordRemover(pt_stopwords)),\n",
    "    ('StemmerTransformer', StemmerTransformer(rslp_stemmer)),\n",
    "])\n",
    "\n",
    "trained_vectorizer = text_pipeline_classic.named_steps['TextVectorizer'].vectorizer\n",
    "\n",
    "trained_model = model_lgb"
   ]
  },
  {
   "cell_type": "code",
   "execution_count": null,
   "id": "25a331db",
   "metadata": {},
   "outputs": [],
   "source": [
    "comment = 'Péssimo produto! Não compro nessa loja, a entrega atrasou e custou muito dinheiro!'\n",
    "\n",
    "plot_sentiment_prediction(\n",
    "    input_text=comment, \n",
    "    text_pipeline=trained_pipeline, \n",
    "    tfidf_vectorizer=trained_vectorizer, \n",
    "    classifier_model=trained_model)"
   ]
  },
  {
   "cell_type": "code",
   "execution_count": null,
   "id": "ba7652af",
   "metadata": {},
   "outputs": [],
   "source": [
    "comment = 'Adorei e realmente cumpriu as expectativas. Comprei por um valor barato. Maravilhoso'\n",
    "\n",
    "plot_sentiment_prediction(\n",
    "    input_text=comment, \n",
    "    text_pipeline=trained_pipeline, \n",
    "    tfidf_vectorizer=trained_vectorizer, \n",
    "    classifier_model=trained_model)"
   ]
  },
  {
   "cell_type": "code",
   "execution_count": null,
   "id": "dbfb3af6",
   "metadata": {},
   "outputs": [],
   "source": [
    "comment = 'Não sei gostei do produto. O custo foi barato mas veio com defeito. Se der sorte, vale a pena'\n",
    "\n",
    "plot_sentiment_prediction(\n",
    "    input_text=comment, \n",
    "    text_pipeline=trained_pipeline, \n",
    "    tfidf_vectorizer=trained_vectorizer, \n",
    "    classifier_model=trained_model)"
   ]
  },
  {
   "cell_type": "code",
   "execution_count": null,
   "id": "f0be7fcb",
   "metadata": {},
   "outputs": [],
   "source": [
    "comment = 'Vendedor confiável, produto ok e entrega antes do prazo.'\n",
    "\n",
    "plot_sentiment_prediction(\n",
    "    input_text=comment, \n",
    "    text_pipeline=trained_pipeline, \n",
    "    tfidf_vectorizer=trained_vectorizer, \n",
    "    classifier_model=trained_model)"
   ]
  },
  {
   "cell_type": "code",
   "execution_count": null,
   "id": "64ee2cd1",
   "metadata": {},
   "outputs": [],
   "source": [
    "df_reviews = df_analysis['comment'].tolist()\n",
    "\n",
    "df_processed = trained_pipeline.fit_transform(df_reviews)\n",
    "\n",
    "vectorizer = text_pipeline_classic.named_steps['TextVectorizer'].vectorizer\n",
    "feature_names = vectorizer.get_feature_names_out()\n",
    "\n",
    "df_complete = pd.DataFrame(df_processed, columns=['comment'])\n",
    "df_complete['sentiment_label'] = df_analysis['score'].map(sentiment_label)"
   ]
  },
  {
   "cell_type": "code",
   "execution_count": null,
   "id": "a92d3150",
   "metadata": {},
   "outputs": [],
   "source": [
    "def get_word_counter_by_label(df, label_col, text_col, target_label):\n",
    "    comments = df.query(f'{label_col} == \"{target_label}\"')[text_col].dropna().tolist()\n",
    "    words = ' '.join(comments).split()\n",
    "    return Counter(words)"
   ]
  },
  {
   "cell_type": "code",
   "execution_count": null,
   "id": "10d4c2d8",
   "metadata": {},
   "outputs": [],
   "source": [
    "positive_dict = get_word_counter_by_label(df_complete, 'sentiment_label', 'comment', 'positive')\n",
    "negative_dict = get_word_counter_by_label(df_complete, 'sentiment_label', 'comment', 'negative')\n",
    "neutral_dict = get_word_counter_by_label(df_complete, 'sentiment_label', 'comment', 'neutral')"
   ]
  },
  {
   "cell_type": "code",
   "execution_count": null,
   "id": "2bda74f8",
   "metadata": {},
   "outputs": [],
   "source": [
    "def generate_wordcloud(freq_dict, colormap='Greens'):\n",
    "    return WordCloud(\n",
    "        width=1280,\n",
    "        height=720,\n",
    "        collocations=False,\n",
    "        random_state=42,\n",
    "        colormap=colormap,\n",
    "        background_color='white',\n",
    "        max_words=50\n",
    "    ).generate_from_frequencies(freq_dict)"
   ]
  },
  {
   "cell_type": "code",
   "execution_count": null,
   "id": "f54c9b28",
   "metadata": {},
   "outputs": [],
   "source": [
    "def plot_wordclouds(word_counters, colormaps=None):\n",
    "    labels = list(word_counters.keys())\n",
    "    n_labels = len(labels)\n",
    "    colormaps = colormaps or ['Greys'] * n_labels\n",
    "\n",
    "    fig, axs = plt.subplots(1, n_labels, figsize=(6 * n_labels, 8))\n",
    "\n",
    "    # Garante que axs seja iterável mesmo para 1 subplot\n",
    "    if n_labels == 1:\n",
    "        axs = [axs]\n",
    "\n",
    "    for ax, label, cmap in zip(axs, labels, colormaps):\n",
    "        wc = generate_wordcloud(word_counters[label], colormap=cmap)\n",
    "        ax.imshow(wc)\n",
    "        ax.axis('off')\n",
    "        ax.set_title(f'{label.capitalize()} Words', fontsize=20, fontweight='bold')\n",
    "\n",
    "    plt.tight_layout()\n",
    "    plt.show()"
   ]
  },
  {
   "cell_type": "code",
   "execution_count": null,
   "id": "0c195fbd",
   "metadata": {},
   "outputs": [],
   "source": [
    "word_counters = {\n",
    "    'positive': positive_dict,\n",
    "    'negative': negative_dict,\n",
    "    'neutral': neutral_dict  # se houver\n",
    "}\n",
    "\n",
    "colormaps = ['Greens', 'Reds', 'YlOrBr']  # uma para cada label, na mesma ordem\n",
    "\n",
    "plot_wordclouds(word_counters, colormaps)"
   ]
  },
  {
   "cell_type": "markdown",
   "id": "12408f99",
   "metadata": {},
   "source": [
    "---"
   ]
  },
  {
   "cell_type": "code",
   "execution_count": null,
   "id": "918a96e8",
   "metadata": {},
   "outputs": [],
   "source": [
    "text_pipeline_new = Pipeline([\n",
    "    ('RegexCleanerTransformer', RegexCleanerTransformer(regex_cleaner)),\n",
    "    ('StopwordRemover', StopwordRemover(pt_stopwords)),\n",
    "    ('BertEmbeddingTransformer', BertEmbeddingTransformer())\n",
    "])"
   ]
  },
  {
   "cell_type": "code",
   "execution_count": null,
   "id": "b258d99a",
   "metadata": {},
   "outputs": [],
   "source": [
    "X = text_pipeline_new.fit_transform(df_analysis['comment'].tolist())"
   ]
  },
  {
   "cell_type": "code",
   "execution_count": null,
   "metadata": {},
   "outputs": [],
   "source": [
    "best_params_lgb = {'learning_rate': 0.04182111901348278,\n",
    "                   'n_estimators': 902,\n",
    "                   'num_leaves': 36,\n",
    "                   'max_depth': 10,\n",
    "                   'min_data_in_leaf': 12,\n",
    "                   'subsample': 0.7661293969659289,\n",
    "                   'colsample_bytree': 0.9372152312137342,\n",
    "                   'reg_alpha': 0.8440322223124193,\n",
    "                   'reg_lambda': 0.01960427092078354,\n",
    "                   'max_bin': 253,\n",
    "                   'scale_pos_weight': 0.8664764286312472,\n",
    "                   \"verbose\": -1}\n",
    "\n",
    "model_lgb = lgb.LGBMClassifier(**best_params_lgb)\n",
    "\n",
    "train_lgb = ClassificationValidator(model=model_lgb)"
   ]
  },
  {
   "cell_type": "code",
   "execution_count": null,
   "id": "12a1e8bd",
   "metadata": {},
   "outputs": [],
   "source": [
    "cross_validation_scores_lgb= train_lgb.cross_validate(X=X, y=y)\n",
    "cross_validation_scores_lgb"
   ]
  },
  {
   "cell_type": "code",
   "execution_count": null,
   "id": "90a6d44c",
   "metadata": {},
   "outputs": [],
   "source": []
  }
 ],
 "metadata": {
  "kernelspec": {
   "display_name": ".venv",
   "language": "python",
   "name": "python3"
  },
  "language_info": {
   "codemirror_mode": {
    "name": "ipython",
    "version": 3
   },
   "file_extension": ".py",
   "mimetype": "text/x-python",
   "name": "python",
   "nbconvert_exporter": "python",
   "pygments_lexer": "ipython3",
   "version": "3.10.12"
  }
 },
 "nbformat": 4,
 "nbformat_minor": 5
}
